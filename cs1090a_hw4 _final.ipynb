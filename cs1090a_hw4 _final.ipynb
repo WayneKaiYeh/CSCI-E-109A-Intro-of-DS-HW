{
 "cells": [
  {
   "cell_type": "code",
   "execution_count": 1,
   "metadata": {
    "deletable": false,
    "editable": false
   },
   "outputs": [],
   "source": [
    "# Initialize Otter\n",
    "import otter\n",
    "grader = otter.Notebook(\"cs1090a_hw4.ipynb\")"
   ]
  },
  {
   "cell_type": "markdown",
   "metadata": {
    "tags": []
   },
   "source": [
    "# <img style=\"float: left; padding-right: 10px; width: 45px\" src=\"https://raw.githubusercontent.com/Harvard-IACS/2018-CS109A/master/content/styles/iacs.png\"> CS1090A Introduction to Data Science: \n",
    "## Homework 4: Classification: Predicting College Admissions\n",
    "\n",
    "**Harvard University**<br/>\n",
    "**Fall 2024**<br/>\n",
    "**Instructors**: Pavlos Protopapas and Natesh Pillai\n",
    "\n",
    "<hr style=\"height:2.4pt\">"
   ]
  },
  {
   "cell_type": "code",
   "execution_count": 2,
   "metadata": {},
   "outputs": [
    {
     "data": {
      "text/html": [
       "<style>\n",
       "blockquote { background: #AEDE94; }\n",
       "h1 {\n",
       "    padding-top: 25px;\n",
       "    padding-bottom: 25px;\n",
       "    text-align: left;\n",
       "    padding-left: 10px;\n",
       "    background-color: #63ACBE;\n",
       "    color: black;\n",
       "}\n",
       "h2 {\n",
       "    padding-top: 10px;\n",
       "    padding-bottom: 10px;\n",
       "    text-align: left;\n",
       "    padding-left: 5px;\n",
       "    background-color: #EEEEEE;\n",
       "    color: black;\n",
       "}\n",
       "\n",
       "div.exercise {\n",
       "\tbackground-color: #f8b4ab;\n",
       "\tborder-color: #E9967A;\n",
       "\tborder-left: 5px solid #601A4A;\n",
       "\tpadding: 0.5em;\n",
       "}\n",
       "\n",
       "div.exercise-r {\n",
       "\tbackground-color: #ffd0d0;\n",
       "\tborder-color: #E9967A;\n",
       "\tborder-left: 5px solid #601A4A;\n",
       "\tpadding: 0.5em;\n",
       "}\n",
       "\n",
       "\n",
       "span.sub-q {\n",
       "\tfont-weight: bold;\n",
       "}\n",
       "div.theme {\n",
       "\tbackground-color: #63ACBE;\n",
       "\tborder-color: #E9967A;\n",
       "\tborder-left: 5px solid #601A4A;\n",
       "\tpadding: 0.5em;\n",
       "\tfont-size: 18pt;\n",
       "}\n",
       "div.gc {\n",
       "\tbackground-color: #AEDE94;\n",
       "\tborder-color: #E9967A;\n",
       "\tborder-left: 5px solid #601A4A;\n",
       "\tpadding: 0.5em;\n",
       "\tfont-size: 12pt;\n",
       "}\n",
       "p.q1 {\n",
       "    padding-top: 5px;\n",
       "    padding-bottom: 5px;\n",
       "    text-align: left;\n",
       "    padding-left: 5px;\n",
       "    background-color: #EEEEEE;\n",
       "    color: black;\n",
       "}\n",
       "header {\n",
       "   padding-top: 35px;\n",
       "    padding-bottom: 35px;\n",
       "    text-align: left;\n",
       "    padding-left: 10px;\n",
       "    background-color: #DDDDDD;\n",
       "    color: black;\n",
       "}\n",
       "span.emph {\n",
       "\tcolor: #601A4A;\n",
       "\tfont-weight: bold;\n",
       "}\n",
       "\n",
       "</style>\n"
      ],
      "text/plain": [
       "<IPython.core.display.HTML object>"
      ]
     },
     "execution_count": 2,
     "metadata": {},
     "output_type": "execute_result"
    }
   ],
   "source": [
    "# RUN THIS CELL \n",
    "import requests\n",
    "from IPython.core.display import HTML\n",
    "styles = requests.get(\n",
    "    \"https://raw.githubusercontent.com/Harvard-IACS/2021-CS109A/master/\"\n",
    "    \"themes/static/css/cs109.css\"\n",
    ").text\n",
    "HTML(styles)"
   ]
  },
  {
   "cell_type": "markdown",
   "metadata": {},
   "source": [
    "<div style = \"background: lightgreen; border: thin solid black; border-radius: 2px; padding: 5px\">\n",
    "\n",
    "### Instructions\n",
    "- To submit your notebook, follow the instructions given in on the Canvas assignment page.\n",
    "- Plots should be legible and interpretable *without having to refer to the code that generated them*. They should include labels for the $x$- and $y$-axes as well as a descriptive title and/or legend when appropriate.\n",
    "- When asked to interpret a visualization, do not simply describe it (e.g., \"the curve has a steep slope up\"), but instead explain what you believe the plot *means*.\n",
    "- Autograding tests are mostly to help you debug. The tests are not exhaustive so simply passing all tests may not be sufficient for full credit.\n",
    "- The use of *extremely* inefficient or error-prone code (e.g., copy-pasting nearly identical commands rather than looping) may result in only partial credit.\n",
    "- We have tried to include all the libraries you may need to do the assignment in the imports cell provided below. Please get course staff approval before importing any additional 3rd party libraries.\n",
    "- Enable scrolling output on cells with slighlty longer output. Avoid excessively long output.\n",
    "- Feel free to add additional code or markdown cells as needed.\n",
    "- Don't forget to include a written response when one is requested by a question prompt.\n",
    "- Ensure your code runs top to bottom without error and passes all tests by restarting the kernel and running all cells (note that this can take a few minutes). \n",
    "- **You should do a \"Restart Kernel and Run All Cells\" before submitting to ensure (1) your notebook actually runs and (2) all output is visible**\n",
    "</div>"
   ]
  },
  {
   "cell_type": "markdown",
   "metadata": {},
   "source": [
    "### Import Libraries"
   ]
  },
  {
   "cell_type": "code",
   "execution_count": 3,
   "metadata": {},
   "outputs": [],
   "source": [
    "# RUN THIS CELL\n",
    "import itertools\n",
    "import math\n",
    "import time\n",
    "\n",
    "import numpy as np\n",
    "import pandas as pd\n",
    "import seaborn as sns\n",
    "import matplotlib.pyplot as plt\n",
    "\n",
    "from sklearn.model_selection import train_test_split\n",
    "from sklearn.preprocessing import PolynomialFeatures\n",
    "from sklearn.preprocessing import StandardScaler\n",
    "from sklearn.model_selection import cross_validate, cross_val_score, cross_val_predict\n",
    "\n",
    "from sklearn.linear_model import LogisticRegression\n",
    "from sklearn.neighbors import KNeighborsClassifier\n",
    "from sklearn.linear_model import LogisticRegressionCV\n",
    "\n",
    "from sklearn.metrics import accuracy_score\n",
    "from sklearn.metrics import roc_curve\n",
    "from sklearn.metrics import roc_auc_score\n",
    "\n",
    "# pandas tricks for better display\n",
    "pd.options.display.max_columns = 50  \n",
    "pd.options.display.max_rows = 500     \n",
    "pd.options.display.max_colwidth = 100\n",
    "pd.options.display.precision = 3"
   ]
  },
  {
   "cell_type": "code",
   "execution_count": 4,
   "metadata": {},
   "outputs": [],
   "source": [
    "# For calculating total notebook runtime\n",
    "notebook_start = time.time()"
   ]
  },
  {
   "cell_type": "markdown",
   "metadata": {},
   "source": [
    "<a id=\"contents\"></a>\n",
    "\n",
    "## Notebook contents\n",
    "\n",
    "- [**Overview and data description**](#intro)\n",
    "\n",
    "\n",
    "- [**Question 1: Data exploration using train and basic models**](#part1)\n",
    "\n",
    "- [**Question 2: Interpretable modeling**](#part2)\n",
    "\n",
    "- [**Question 3: Harvard and Yale?**](#part3)\n",
    "\n",
    "- [**Question 4: Building predictive models for admitted**](#part4)\n",
    "\n",
    "- [**Question 5: Evaluating results**](#part5)\n",
    "\n",
    "- [**Question 6: BONUS!**](#part6)"
   ]
  },
  {
   "cell_type": "markdown",
   "metadata": {},
   "source": [
    "<a id=\"intro\"></a>\n",
    "\n",
    "## Overview and data description\n",
    "\n",
    "[Return to contents](#contents)\n",
    "\n",
    "### Predicting admissions into elite universities\n",
    "\n",
    "In this problem set we will model the chances of high school students being accepted into two different elite undergraduate colleges: Harvard and Yale.\n",
    "\n",
    "The data are provided in the file `data/college_admissions.csv` and were scraped in 2022 from [collegedata.com](https://www.collegedata.com/) (where applicants volunteer to share their information).  Each observation corresponds to an applicant to one of the two different colleges (note: the same applicant may show up in two rows: once for each college).  The main response is the `\"admitted\"` variable (1 = admitted, 0 = denied), and there are are several predictors to consider:\n",
    "\n",
    "- **id**: a unique identifier for the applicant \n",
    "- **test_score**: a standardized measurement of the applicant's highest ACT or SAT combined score (2400 is the maximum)\n",
    "- **ap**: the number of AP tests taken\n",
    "- **avg_ap**: the average score on the AP tests taken (0 if no tests were taken)\n",
    "- **sat_subjects**: the number of SAT subject tests taken\n",
    "- **gpa**: the unweighted GPA of the applicant (max of 4.0)\n",
    "- **female**:  a binary indicator for gender: 1 = female, 0 = otherwise\n",
    "- **minority**: a binary indicator for under-represented minority: 1 = minority, 0 = otherwise \n",
    "- **international**: a binary indicator for international status: 1 = international, 0 = United States\n",
    "- **sports**: a binary indicator for High School All-American: 1 = all-American athlete, 0 = otherwise\n",
    "- **harvard**: a categorical variable for school applied to: 1 = Harvard, 0 = Yale\n",
    "- **early_app**: a binary indicator for application type: 1 = early action, 0 = regular\n",
    "- **alumni**:  a binary indicator for parents' alumni status of school: 1 = a parent is an alumnus, 0 = otherwise\n",
    "- **program**: the program applied to by the student with many choices (we will not use this as a predictor)\n",
    "- **add_info**: additional (optional) info provided by applicant (we will not use this as a predictor)\n",
    "\n",
    "**The main set of 12 predictors is:**\n",
    "\n",
    "```python\n",
    "[\n",
    "    \"test_score\", \"ap\", \"avg_ap\", \"sat_subjects\", \n",
    "    \"gpa\", \"female\", \"minority\", \"international\",\n",
    "    \"sports\", \"harvard\", \"early_app\", \"alumni\",\n",
    "]\n",
    "```\n",
    "\n",
    "Please note, you may need to modify this list when fitting different models.\n",
    "\n",
    "\n",
    "**IMPORTANT NOTES:**\n",
    "\n",
    "- Unless stated otherwise, all logistic regression models should be unregularized (use `penalty=None`) and include the intercept (which is the default in `sklearn`).\n",
    "\n",
    "\n",
    "- When printing your output (e.g. coefficients, accuracy scores, etc.), DO NOT just print numbers without context. Please be certain provide clarifying labels for all printed numbers and limit the number of digits showing after decimals to a reasonable length (e.g. 4 decimal points for coefficients and accuracy scores).\n",
    "\n",
    "\n",
    "- Also be sure to practice good data science principles: always use train to do analysis and never touch the test set until the very end."
   ]
  },
  {
   "cell_type": "markdown",
   "metadata": {},
   "source": [
    "---"
   ]
  },
  {
   "cell_type": "markdown",
   "metadata": {},
   "source": [
    "<a id=\"part1\"></a>\n",
    "\n",
    "## <div class='exercise'>Question 1: Data exploration using train and basic models</div>\n",
    "\n",
    "[Return to contents](#contents)\n",
    "\n",
    "The first step is to split the observations into an approximate 80-20 train-test split.  Below is some code to do this for you (we want to make sure everyone has the same splits). It also prints the dataset's shape before splitting and after splitting. \n",
    "\n",
    "**IMPORTANT:** While an argument could be made to scale our predictors here, please **DO NOT** do so **UNTIL** it is requested of you in **[Question 4.1](#part4)**.\n"
   ]
  },
  {
   "cell_type": "code",
   "execution_count": 5,
   "metadata": {},
   "outputs": [
    {
     "name": "stdout",
     "output_type": "stream",
     "text": [
      "(1871, 16)\n",
      "(1496, 16) (375, 16)\n"
     ]
    },
    {
     "data": {
      "text/html": [
       "<div>\n",
       "<style scoped>\n",
       "    .dataframe tbody tr th:only-of-type {\n",
       "        vertical-align: middle;\n",
       "    }\n",
       "\n",
       "    .dataframe tbody tr th {\n",
       "        vertical-align: top;\n",
       "    }\n",
       "\n",
       "    .dataframe thead th {\n",
       "        text-align: right;\n",
       "    }\n",
       "</style>\n",
       "<table border=\"1\" class=\"dataframe\">\n",
       "  <thead>\n",
       "    <tr style=\"text-align: right;\">\n",
       "      <th></th>\n",
       "      <th>id</th>\n",
       "      <th>admitted</th>\n",
       "      <th>test_score</th>\n",
       "      <th>ap</th>\n",
       "      <th>avg_ap</th>\n",
       "      <th>sat_subjects</th>\n",
       "      <th>gpa</th>\n",
       "      <th>female</th>\n",
       "      <th>minority</th>\n",
       "      <th>international</th>\n",
       "      <th>sports</th>\n",
       "      <th>early_app</th>\n",
       "      <th>alumni</th>\n",
       "      <th>program</th>\n",
       "      <th>add_info</th>\n",
       "      <th>harvard</th>\n",
       "    </tr>\n",
       "  </thead>\n",
       "  <tbody>\n",
       "    <tr>\n",
       "      <th>192</th>\n",
       "      <td>NYFN0GE0KK</td>\n",
       "      <td>1</td>\n",
       "      <td>2310</td>\n",
       "      <td>7</td>\n",
       "      <td>5.000</td>\n",
       "      <td>5</td>\n",
       "      <td>3.98</td>\n",
       "      <td>0</td>\n",
       "      <td>0</td>\n",
       "      <td>0</td>\n",
       "      <td>0</td>\n",
       "      <td>0</td>\n",
       "      <td>0</td>\n",
       "      <td>Economics</td>\n",
       "      <td>Activities Activity Position Honors Grade Levels Approximate Time When Participated Participate ...</td>\n",
       "      <td>1</td>\n",
       "    </tr>\n",
       "    <tr>\n",
       "      <th>652</th>\n",
       "      <td>50FWDZ3MBF</td>\n",
       "      <td>1</td>\n",
       "      <td>2010</td>\n",
       "      <td>3</td>\n",
       "      <td>4.333</td>\n",
       "      <td>3</td>\n",
       "      <td>3.75</td>\n",
       "      <td>1</td>\n",
       "      <td>1</td>\n",
       "      <td>0</td>\n",
       "      <td>0</td>\n",
       "      <td>0</td>\n",
       "      <td>0</td>\n",
       "      <td>History Political Science</td>\n",
       "      <td>Drama Club Co founder of a Community Outreach Organization called Los Amigos volunteered helped ...</td>\n",
       "      <td>1</td>\n",
       "    </tr>\n",
       "    <tr>\n",
       "      <th>593</th>\n",
       "      <td>KYYHQRHBV9</td>\n",
       "      <td>0</td>\n",
       "      <td>2080</td>\n",
       "      <td>5</td>\n",
       "      <td>4.200</td>\n",
       "      <td>2</td>\n",
       "      <td>3.85</td>\n",
       "      <td>0</td>\n",
       "      <td>0</td>\n",
       "      <td>0</td>\n",
       "      <td>0</td>\n",
       "      <td>0</td>\n",
       "      <td>0</td>\n",
       "      <td>Biology Pre Med</td>\n",
       "      <td>moderate a few sports and clubs and a part time jobfamily circumstances positive</td>\n",
       "      <td>1</td>\n",
       "    </tr>\n",
       "    <tr>\n",
       "      <th>331</th>\n",
       "      <td>JQ8O4AV4VM</td>\n",
       "      <td>0</td>\n",
       "      <td>2250</td>\n",
       "      <td>0</td>\n",
       "      <td>0.000</td>\n",
       "      <td>2</td>\n",
       "      <td>4.00</td>\n",
       "      <td>0</td>\n",
       "      <td>0</td>\n",
       "      <td>0</td>\n",
       "      <td>0</td>\n",
       "      <td>0</td>\n",
       "      <td>0</td>\n",
       "      <td>Physics</td>\n",
       "      <td>NaN</td>\n",
       "      <td>1</td>\n",
       "    </tr>\n",
       "    <tr>\n",
       "      <th>1117</th>\n",
       "      <td>SJUQZVBA7K</td>\n",
       "      <td>0</td>\n",
       "      <td>2230</td>\n",
       "      <td>4</td>\n",
       "      <td>4.000</td>\n",
       "      <td>5</td>\n",
       "      <td>3.96</td>\n",
       "      <td>1</td>\n",
       "      <td>0</td>\n",
       "      <td>0</td>\n",
       "      <td>0</td>\n",
       "      <td>1</td>\n",
       "      <td>0</td>\n",
       "      <td>Chemistry Chemical Engineering</td>\n",
       "      <td>MUN Advisor 12 10 National Honors Society 12 10 California Scholarship Federation 12 9 Book Club...</td>\n",
       "      <td>0</td>\n",
       "    </tr>\n",
       "  </tbody>\n",
       "</table>\n",
       "</div>"
      ],
      "text/plain": [
       "              id  admitted  test_score  ap  avg_ap  sat_subjects   gpa  \\\n",
       "192   NYFN0GE0KK         1        2310   7   5.000             5  3.98   \n",
       "652   50FWDZ3MBF         1        2010   3   4.333             3  3.75   \n",
       "593   KYYHQRHBV9         0        2080   5   4.200             2  3.85   \n",
       "331   JQ8O4AV4VM         0        2250   0   0.000             2  4.00   \n",
       "1117  SJUQZVBA7K         0        2230   4   4.000             5  3.96   \n",
       "\n",
       "      female  minority  international  sports  early_app  alumni  \\\n",
       "192        0         0              0       0          0       0   \n",
       "652        1         1              0       0          0       0   \n",
       "593        0         0              0       0          0       0   \n",
       "331        0         0              0       0          0       0   \n",
       "1117       1         0              0       0          1       0   \n",
       "\n",
       "                             program  \\\n",
       "192                        Economics   \n",
       "652        History Political Science   \n",
       "593                 Biology Pre Med    \n",
       "331                          Physics   \n",
       "1117  Chemistry Chemical Engineering   \n",
       "\n",
       "                                                                                                 add_info  \\\n",
       "192   Activities Activity Position Honors Grade Levels Approximate Time When Participated Participate ...   \n",
       "652   Drama Club Co founder of a Community Outreach Organization called Los Amigos volunteered helped ...   \n",
       "593                      moderate a few sports and clubs and a part time jobfamily circumstances positive   \n",
       "331                                                                                                   NaN   \n",
       "1117  MUN Advisor 12 10 National Honors Society 12 10 California Scholarship Federation 12 9 Book Club...   \n",
       "\n",
       "      harvard  \n",
       "192         1  \n",
       "652         1  \n",
       "593         1  \n",
       "331         1  \n",
       "1117        0  "
      ]
     },
     "metadata": {},
     "output_type": "display_data"
    },
    {
     "name": "stdout",
     "output_type": "stream",
     "text": [
      "<class 'pandas.core.frame.DataFrame'>\n",
      "Index: 1496 entries, 192 to 1296\n",
      "Data columns (total 16 columns):\n",
      " #   Column         Non-Null Count  Dtype  \n",
      "---  ------         --------------  -----  \n",
      " 0   id             1496 non-null   object \n",
      " 1   admitted       1496 non-null   int64  \n",
      " 2   test_score     1496 non-null   int64  \n",
      " 3   ap             1496 non-null   int64  \n",
      " 4   avg_ap         1496 non-null   float64\n",
      " 5   sat_subjects   1496 non-null   int64  \n",
      " 6   gpa            1496 non-null   float64\n",
      " 7   female         1496 non-null   int64  \n",
      " 8   minority       1496 non-null   int64  \n",
      " 9   international  1496 non-null   int64  \n",
      " 10  sports         1496 non-null   int64  \n",
      " 11  early_app      1496 non-null   int64  \n",
      " 12  alumni         1496 non-null   int64  \n",
      " 13  program        1298 non-null   object \n",
      " 14  add_info       949 non-null    object \n",
      " 15  harvard        1496 non-null   int64  \n",
      "dtypes: float64(2), int64(11), object(3)\n",
      "memory usage: 198.7+ KB\n"
     ]
    }
   ],
   "source": [
    "#############################\n",
    "## DO NOT MODIFY THIS CODE ##\n",
    "#############################\n",
    "np.random.seed(121)\n",
    "\n",
    "college = pd.read_csv(\"data/college_admissions.csv\")\n",
    "\n",
    "college_train, college_test = train_test_split(\n",
    "    college,\n",
    "    test_size=0.2,\n",
    "    random_state=121,\n",
    "    shuffle=True,\n",
    "    stratify=college[\"admitted\"],\n",
    ")\n",
    "\n",
    "print(college.shape)\n",
    "print(college_train.shape, college_test.shape)\n",
    "display(college_train.head())\n",
    "college_train.info()\n",
    "\n",
    "# Separate predictors from response\n",
    "X_train, y_train = college_train.drop(columns=[\"admitted\"]), college_train[\"admitted\"]\n",
    "X_test, y_test = college_test.drop(columns=[\"admitted\"]), college_test[\"admitted\"]"
   ]
  },
  {
   "cell_type": "markdown",
   "metadata": {
    "cell_id": "0a790850-87c6-4f46-b89e-048a2295c92b",
    "colab_type": "text",
    "deletable": false,
    "editable": false,
    "id": "IGFtXJmQap2q"
   },
   "source": [
    "<div class='exercise-r'>\n",
    "\n",
    "**Q1.1** Consider a baseline, \"naive\" model that predicts that *ALL* applicants belong to the same class. This class prediction is *not* determined by an applicant's feature values, but rather by the proportion of observations in the training data belonging to each class.\n",
    "\n",
    "Calculate the accuracy of this naive model on the training data and store it in `naive_train_acc`.\n",
    "    \n",
    "**NOTE:** For this assignment, use the convention that accuracies range from 0 to 1 (to be consistant with sklearn).\n",
    "    \n",
    "</div>"
   ]
  },
  {
   "cell_type": "code",
   "execution_count": 6,
   "metadata": {
    "tags": []
   },
   "outputs": [],
   "source": [
    "# your code here\n",
    "mode = y_train.mode()[0]\n",
    "naive_train_acc = (y_train == mode).mean()"
   ]
  },
  {
   "cell_type": "code",
   "execution_count": 7,
   "metadata": {
    "deletable": false,
    "editable": false
   },
   "outputs": [
    {
     "name": "stdout",
     "output_type": "stream",
     "text": [
      "Naive Classification Model Based on Training Proportions\n",
      "\tTrain Accuracy: 0.7299\n"
     ]
    }
   ],
   "source": [
    "print(\"Naive Classification Model Based on Training Proportions\")\n",
    "print(f\"\\tTrain Accuracy: {naive_train_acc:.4f}\")"
   ]
  },
  {
   "cell_type": "code",
   "execution_count": 8,
   "metadata": {
    "deletable": false,
    "editable": false
   },
   "outputs": [
    {
     "data": {
      "text/html": [
       "<p><strong><pre style='display: inline;'>q1.1</pre></strong> passed! ✨</p>"
      ],
      "text/plain": [
       "q1.1 results: All test cases passed!"
      ]
     },
     "execution_count": 8,
     "metadata": {},
     "output_type": "execute_result"
    }
   ],
   "source": [
    "grader.check(\"q1.1\")"
   ]
  },
  {
   "cell_type": "markdown",
   "metadata": {
    "cell_id": "0a790850-87c6-4f46-b89e-048a2295c92b",
    "colab_type": "text",
    "deletable": false,
    "editable": false,
    "id": "IGFtXJmQap2q"
   },
   "source": [
    "<!-- BEGIN QUESTION -->\n",
    "\n",
    "<div class='exercise-r'>\n",
    "\n",
    "**Q1.2** Let's investigate how each of our 12 predictors is associated with whether or not an applicant is admitted into the college to which they applied (`admitted`). To this end, create a separate **visual** for each of our predictors to investigate their relationship with college admissions. **Suggestion:** Place these 12 visuals in a grid of subplots with 3 columns and 4 rows.\n",
    "\n",
    "</div>"
   ]
  },
  {
   "cell_type": "code",
   "execution_count": 96,
   "metadata": {},
   "outputs": [
    {
     "data": {
      "text/html": [
       "<div>\n",
       "<style scoped>\n",
       "    .dataframe tbody tr th:only-of-type {\n",
       "        vertical-align: middle;\n",
       "    }\n",
       "\n",
       "    .dataframe tbody tr th {\n",
       "        vertical-align: top;\n",
       "    }\n",
       "\n",
       "    .dataframe thead th {\n",
       "        text-align: right;\n",
       "    }\n",
       "</style>\n",
       "<table border=\"1\" class=\"dataframe\">\n",
       "  <thead>\n",
       "    <tr style=\"text-align: right;\">\n",
       "      <th></th>\n",
       "      <th>admitted</th>\n",
       "      <th>test_score</th>\n",
       "      <th>ap</th>\n",
       "      <th>avg_ap</th>\n",
       "      <th>sat_subjects</th>\n",
       "      <th>gpa</th>\n",
       "      <th>female</th>\n",
       "      <th>minority</th>\n",
       "      <th>international</th>\n",
       "      <th>sports</th>\n",
       "      <th>early_app</th>\n",
       "      <th>alumni</th>\n",
       "      <th>harvard</th>\n",
       "    </tr>\n",
       "  </thead>\n",
       "  <tbody>\n",
       "    <tr>\n",
       "      <th>192</th>\n",
       "      <td>1</td>\n",
       "      <td>0.727</td>\n",
       "      <td>1.543</td>\n",
       "      <td>0.753</td>\n",
       "      <td>1.664</td>\n",
       "      <td>0.514</td>\n",
       "      <td>0</td>\n",
       "      <td>0</td>\n",
       "      <td>0</td>\n",
       "      <td>0</td>\n",
       "      <td>0</td>\n",
       "      <td>0</td>\n",
       "      <td>1</td>\n",
       "    </tr>\n",
       "    <tr>\n",
       "      <th>652</th>\n",
       "      <td>1</td>\n",
       "      <td>-1.045</td>\n",
       "      <td>-0.179</td>\n",
       "      <td>0.365</td>\n",
       "      <td>0.093</td>\n",
       "      <td>-0.661</td>\n",
       "      <td>1</td>\n",
       "      <td>1</td>\n",
       "      <td>0</td>\n",
       "      <td>0</td>\n",
       "      <td>0</td>\n",
       "      <td>0</td>\n",
       "      <td>1</td>\n",
       "    </tr>\n",
       "    <tr>\n",
       "      <th>593</th>\n",
       "      <td>0</td>\n",
       "      <td>-0.631</td>\n",
       "      <td>0.682</td>\n",
       "      <td>0.287</td>\n",
       "      <td>-0.692</td>\n",
       "      <td>-0.150</td>\n",
       "      <td>0</td>\n",
       "      <td>0</td>\n",
       "      <td>0</td>\n",
       "      <td>0</td>\n",
       "      <td>0</td>\n",
       "      <td>0</td>\n",
       "      <td>1</td>\n",
       "    </tr>\n",
       "    <tr>\n",
       "      <th>331</th>\n",
       "      <td>0</td>\n",
       "      <td>0.373</td>\n",
       "      <td>-1.470</td>\n",
       "      <td>-2.159</td>\n",
       "      <td>-0.692</td>\n",
       "      <td>0.617</td>\n",
       "      <td>0</td>\n",
       "      <td>0</td>\n",
       "      <td>0</td>\n",
       "      <td>0</td>\n",
       "      <td>0</td>\n",
       "      <td>0</td>\n",
       "      <td>1</td>\n",
       "    </tr>\n",
       "    <tr>\n",
       "      <th>1117</th>\n",
       "      <td>0</td>\n",
       "      <td>0.255</td>\n",
       "      <td>0.252</td>\n",
       "      <td>0.171</td>\n",
       "      <td>1.664</td>\n",
       "      <td>0.412</td>\n",
       "      <td>1</td>\n",
       "      <td>0</td>\n",
       "      <td>0</td>\n",
       "      <td>0</td>\n",
       "      <td>1</td>\n",
       "      <td>0</td>\n",
       "      <td>0</td>\n",
       "    </tr>\n",
       "  </tbody>\n",
       "</table>\n",
       "</div>"
      ],
      "text/plain": [
       "      admitted  test_score     ap  avg_ap  sat_subjects    gpa  female  \\\n",
       "192          1       0.727  1.543   0.753         1.664  0.514       0   \n",
       "652          1      -1.045 -0.179   0.365         0.093 -0.661       1   \n",
       "593          0      -0.631  0.682   0.287        -0.692 -0.150       0   \n",
       "331          0       0.373 -1.470  -2.159        -0.692  0.617       0   \n",
       "1117         0       0.255  0.252   0.171         1.664  0.412       1   \n",
       "\n",
       "      minority  international  sports  early_app  alumni  harvard  \n",
       "192          0              0       0          0       0        1  \n",
       "652          1              0       0          0       0        1  \n",
       "593          0              0       0          0       0        1  \n",
       "331          0              0       0          0       0        1  \n",
       "1117         0              0       0          1       0        0  "
      ]
     },
     "execution_count": 96,
     "metadata": {},
     "output_type": "execute_result"
    }
   ],
   "source": [
    "# List of predictor variables\n",
    "x_predictors = [\"test_score\", \"ap\", \"avg_ap\", \"sat_subjects\", \"gpa\", \"female\", \n",
    "              \"minority\", \"international\", \"sports\", \"early_app\", \"alumni\", \"harvard\"]\n",
    "\n",
    "#create dataframe consists of predictors and response and show example\n",
    "\n",
    "df1_train = pd.concat([y_train,X_train[x_predictors]],axis=1)\n",
    "\n",
    "df1_train.head()"
   ]
  },
  {
   "cell_type": "code",
   "execution_count": 105,
   "metadata": {},
   "outputs": [
    {
     "data": {
      "image/png": "[encoded data removed]",
      "text/plain": [
       "<Figure size 1500x1200 with 12 Axes>"
      ]
     },
     "metadata": {},
     "output_type": "display_data"
    }
   ],
   "source": [
    "\n",
    "#Step by step\n",
    "# Define the predictors and their corresponding plot types\n",
    "# Loop through predictors and create corresponding plots\n",
    "\n",
    "\n",
    "predictors = [\n",
    "    ('test_score', 'histplot', {'kde': True, 'alpha': 0.4}),\n",
    "    ('ap', 'countplot', {}),\n",
    "    ('avg_ap', 'histplot', {}),\n",
    "    ('sat_subjects', 'countplot', {}),\n",
    "    ('gpa', 'histplot', {'bins': 6}),\n",
    "    ('female', 'countplot', {}),\n",
    "    ('minority', 'countplot', {}),\n",
    "    ('international', 'countplot', {}),\n",
    "    ('sports', 'countplot', {}),\n",
    "    ('early_app', 'countplot', {}),\n",
    "    ('alumni', 'countplot', {}),\n",
    "    ('harvard', 'countplot', {})\n",
    "]\n",
    "\n",
    "sns.set_palette(\"Set2\")\n",
    "fig, axes = plt.subplots(nrows=4, ncols=3, figsize=(15, 12))\n",
    "fig.suptitle(\"Relationship between Predictors and Admission Status\", fontsize=16)\n",
    "axes = axes.ravel()\n",
    "\n",
    "\n",
    "for ax, (predictor, plot_type, plot_kwargs) in zip(axes, predictors):\n",
    "    if plot_type == 'histplot':\n",
    "        sns.histplot(data=df1_train, x=predictor, hue='admitted', ax=ax, **plot_kwargs)\n",
    "    elif plot_type == 'countplot':\n",
    "        sns.countplot(data=df1_train, x=predictor, hue='admitted', ax=ax, **plot_kwargs)\n",
    "    ax.set_title(f'{predictor.replace(\"_\", \" \").title()} vs Admitted')\n",
    "    ax.set_xlabel(predictor.replace(\"_\", \" \").title())\n",
    "\n",
    "\n",
    "plt.tight_layout()\n",
    "plt.show()"
   ]
  },
  {
   "cell_type": "markdown",
   "metadata": {
    "cell_id": "0a790850-87c6-4f46-b89e-048a2295c92b",
    "colab_type": "text",
    "deletable": false,
    "editable": false,
    "id": "IGFtXJmQap2q"
   },
   "source": [
    "<!-- END QUESTION -->\n",
    "\n",
    "<!-- BEGIN QUESTION -->\n",
    "\n",
    "<div class='exercise-r'>\n",
    "\n",
    "**1.3** Based on the visuals above, which predictor seems to have the most potential for predicting `admitted`? Why do you think this it the best potential single predictor?\n",
    "    \n",
    "</div>"
   ]
  },
  {
   "cell_type": "markdown",
   "metadata": {},
   "source": [
    "<div class=\"highlight-box\" style=\"border: 1px solid #ffcccb; background-color: #ffcccb; height: 5px;\"></div>"
   ]
  },
  {
   "cell_type": "markdown",
   "metadata": {},
   "source": [
    "1. Test Scores: The graph shows that students with higher test scores are more likely to be admitted, though the difference isn’t as strong as with GPA.\n",
    "\n",
    "2. Early Application (early_app): Applying early seems to boost admission chances, possibly because it shows a student’s commitment, and universities often like to lock in strong candidates early.\n",
    "\n",
    "3. Alumni Status (alumni): Students with parents who went to the university tend to have better chances of getting in, reflecting the common practice of legacy admissions.\n",
    "\n",
    "4. AP and SAT Subject Tests (ap, sat_subjects): Taking more AP and SAT subject tests might signal a student’s academic drive and readiness, traits that top universities appreciate. Those who take more of these tests usually have a stronger academic foundation, which could improve their chances of admission.\n",
    "\n",
    "5. Harvard vs. Yale (harvard): This variable helps distinguish between the two universities. Each might have its own unique admissions criteria or priorities, which could affect which students they choose to admit.\n",
    "\n",
    "6. Minority Status (minority): Minority students might have different admission rates, likely influenced by efforts to promote diversity. The graph shows some variation here, suggesting this factor could be important in certain cases.\n",
    "\n",
    "7. Sports: Being a standout high school athlete, like an All-American, can be an advantage, especially at schools that value sports. While it might not be as critical as GPA or test scores, it’s still a meaningful factor for some applicants."
   ]
  },
  {
   "cell_type": "markdown",
   "metadata": {},
   "source": [
    "<div class=\"highlight-box\" style=\"border: 1px solid #ffcccb; background-color: #ffcccb; height: 5px;\"></div>"
   ]
  },
  {
   "cell_type": "markdown",
   "metadata": {
    "cell_id": "0a790850-87c6-4f46-b89e-048a2295c92b",
    "colab_type": "text",
    "deletable": false,
    "editable": false,
    "id": "IGFtXJmQap2q"
   },
   "source": [
    "<!-- END QUESTION -->\n",
    "\n",
    "<!-- BEGIN QUESTION -->\n",
    "\n",
    "<div class='exercise-r'>\n",
    "    \n",
    "**Q1.4** Fit a logistic regression to predict `admitted` from `harvard` (call it `logit1_4`).  \n",
    "- Store the coefficient and intercept in `logit1_4_coef` and `logit1_4_intercept`. Interpret these values.\n",
    "- Use $\\LaTeX$ to demonstrate how you can use these coefficient values to calculate the estimated probabilities of getting into each school.\n",
    "- Store the results of the above calculation in `p_harvard` and `p_yale`. \n",
    "- Which school is easier to get into according to this model?\n",
    "\n",
    "**IMPORTANT:** \n",
    "- Remember, all models in this assignment should be **unregularized** unless you are specifically asked to use regularization for a particular model.\n",
    "- Use `random_state = 109` for all of your `LogisticRegression` and `LogisticRegressionCV` models in this notebook.\n",
    "</div>"
   ]
  },
  {
   "cell_type": "code",
   "execution_count": 106,
   "metadata": {
    "tags": []
   },
   "outputs": [
    {
     "name": "stderr",
     "output_type": "stream",
     "text": [
      "/tmp/ipykernel_16217/1674818482.py:7: DeprecationWarning: Conversion of an array with ndim > 0 to a scalar is deprecated, and will error in future. Ensure you extract a single element from your array before performing this operation. (Deprecated NumPy 1.25.)\n",
      "  logit1_4_coef = float(logit1_4.coef_.flatten())\n",
      "/tmp/ipykernel_16217/1674818482.py:8: DeprecationWarning: Conversion of an array with ndim > 0 to a scalar is deprecated, and will error in future. Ensure you extract a single element from your array before performing this operation. (Deprecated NumPy 1.25.)\n",
      "  logit1_4_intercept = float(logit1_4.intercept_.flatten())\n"
     ]
    }
   ],
   "source": [
    "#extract harvard out of the X_train\n",
    "xhv_train1_4 = X_train[[\"harvard\"]]\n",
    "\n",
    "# Fit logistic regression model without regularization and Identify and report coefficients\n",
    "logit1_4 = LogisticRegression(penalty=None, random_state=109).fit(xhv_train1_4,y_train)\n",
    "\n",
    "logit1_4_coef = float(logit1_4.coef_.flatten())\n",
    "logit1_4_intercept = float(logit1_4.intercept_.flatten())\n",
    "\n",
    "\n",
    "# Calculate and report probabilities\n",
    "#from prob formula\n",
    "\n",
    "p_harvard = 1 / (1 + np.exp(-(logit1_4_intercept + logit1_4_coef)))\n",
    "p_yale = 1 / (1 + np.exp(-logit1_4_intercept))   #because harvard = 0\n"
   ]
  },
  {
   "cell_type": "code",
   "execution_count": 107,
   "metadata": {
    "deletable": false,
    "editable": false
   },
   "outputs": [
    {
     "name": "stdout",
     "output_type": "stream",
     "text": [
      "The coefficient for the 'logit1_4' model's only predictor 'harvard' is 0.2512 and the intercept is -1.1280\n",
      "\n",
      "Estimated probability of acceptance for Harvard: 0.2938\n",
      "Estimated probability of acceptance for Yale: 0.2445\n"
     ]
    }
   ],
   "source": [
    "print(\n",
    "    \"The coefficient for the 'logit1_4' model's only predictor 'harvard' \"\n",
    "    \"is {:.4f} and the intercept is {:.4f}\\n\".format(\n",
    "        logit1_4_coef, logit1_4_intercept\n",
    "    )\n",
    ")\n",
    "\n",
    "print(\n",
    "    \"Estimated probability of acceptance for Harvard: {:.4f}\"\n",
    "    .format(p_harvard)\n",
    ")\n",
    "print(\n",
    "    \"Estimated probability of acceptance for Yale: {:.4f}\"\n",
    "    .format(p_yale)\n",
    ")"
   ]
  },
  {
   "cell_type": "markdown",
   "metadata": {},
   "source": [
    "<div class=\"highlight-box\" style=\"border: 1px solid #ffcccb; background-color: #ffcccb; height: 5px;\"></div>"
   ]
  },
  {
   "cell_type": "markdown",
   "metadata": {},
   "source": [
    "#### Which school is easier to get into according to this model?\n",
    "\n",
    "\n",
    "Coefficient (0.1878): This indicates that applying to Harvard increases the log-odds of admission compared to Yale. However, since the value is relatively small, the difference in admission probability between the two schools is modest.\n",
    "\n",
    "Intercept (-1.0952): This represents the baseline log-odds of admission when applying to Yale (harvard = 0).\n",
    "\n",
    ", Harvard appears slightly easier to get into, as it has a higher estimated probability of admission. However, the difference between Harvard and Yale is small.\n",
    "Using merely 1 predictor diesn't predict well on the admission.\n"
   ]
  },
  {
   "cell_type": "markdown",
   "metadata": {},
   "source": [
    "<div class=\"highlight-box\" style=\"border: 1px solid #ffcccb; background-color: #ffcccb; height: 5px;\"></div>"
   ]
  },
  {
   "cell_type": "code",
   "execution_count": 108,
   "metadata": {
    "deletable": false,
    "editable": false
   },
   "outputs": [
    {
     "data": {
      "text/html": [
       "<p><strong><pre style='display: inline;'>q1.4</pre></strong> passed! 🚀</p>"
      ],
      "text/plain": [
       "q1.4 results: All test cases passed!"
      ]
     },
     "execution_count": 108,
     "metadata": {},
     "output_type": "execute_result"
    }
   ],
   "source": [
    "grader.check(\"q1.4\")"
   ]
  },
  {
   "cell_type": "markdown",
   "metadata": {
    "cell_id": "0a790850-87c6-4f46-b89e-048a2295c92b",
    "colab_type": "text",
    "deletable": false,
    "editable": false,
    "id": "IGFtXJmQap2q"
   },
   "source": [
    "<!-- END QUESTION -->\n",
    "\n",
    "<!-- BEGIN QUESTION -->\n",
    "\n",
    "<div class='exercise-r'>\n",
    "\n",
    "**Q1.5** Create and display a [contingency table](https://en.wikipedia.org/wiki/Contingency_table) between `admitted` and `harvard`.  Use this table to calculate and confirm the coefficient estimates in the `logit1_4` model (both the intercept and slope). Show this calculation using $\\LaTeX$ in a markdown cell.\n",
    "    \n",
    "**Hint:** The Pandas [crosstab](https://pandas.pydata.org/pandas-docs/stable/reference/api/pandas.crosstab.html) method may be helpful here.\n",
    "\n",
    "</div>"
   ]
  },
  {
   "cell_type": "markdown",
   "metadata": {},
   "source": [
    "<div class=\"highlight-box\" style=\"border: 1px solid #ffcccb; background-color: #ffcccb; height: 5px;\"></div>"
   ]
  },
  {
   "cell_type": "markdown",
   "metadata": {},
   "source": [
    "From the contingency table, we calculate the log-odds for admission into Harvard and Yale.\n",
    "\n",
    "##### Contingency Table:\n",
    "\\\n",
    "\\begin{array}{|c|c|c|}\n",
    "\\hline\n",
    "\\text{Admitted} & \\text{Yale (0)} & \\text{Harvard (1)} \\\\\n",
    "\\hline\n",
    "0 & 667 & 699 \\\\\n",
    "1 & 223 & 282 \\\\\n",
    "\\hline\n",
    "\\end{array}\n",
    "\n",
    "To calculate the slope (coefficient for the harvard predictor) and the intercept in logistic regression, we need to compute the log-odds.\n",
    "First, we need to calculate the probability of being admitted as Harvard and Yale.\n",
    "\n",
    "- Probability of being admitted as \"Harvard\":\n",
    "  $$\n",
    "  P(\\text{admit}=1 \\mid \\text{harvard}=1) = \\frac{282}{699 + 282} = \\frac{282}{981} \\approx 0.2874\n",
    "  $$\n",
    "  \n",
    "- Probability of being admitted as \"Yale\":\n",
    "  $$\n",
    "  P(\\text{admit}=1 \\mid \\text{harvard}=0) = \\frac{223}{667 + 223} = \\frac{223}{890} \\approx 0.2506\n",
    "  $$\n",
    "\n",
    "\n",
    "\n",
    "#### Then we calculate the Log-Odds.\n",
    "\n",
    "- Log-odds for `Harvard`:\n",
    "  $$\n",
    "  \\text{Log-Odds}(\\text{harvard}=1) = \\ln \\left( \\frac{P(\\text{admit}=1 \\mid \\text{harvard}=1)}{1 - P(\\text{admit}=1 \\mid \\text{harvard}=1)} \\right)\n",
    "  $$\n",
    "  $$\n",
    "  = \\ln \\left( \\frac{0.2874}{1 - 0.2874} \\right) = \\ln \\left( \\frac{0.2874}{0.7126} \\right) \\approx -0.909\n",
    "  $$\n",
    "\n",
    "- Log-odds for \"Yale\":\n",
    "  $$\n",
    "  \\text{Log-Odds}(\\text{harvard}=0) = \\ln \\left( \\frac{P(\\text{admit}=1 \\mid \\text{harvard}=0)}{1 - P(\\text{admit}=1 \\mid \\text{harvard}=0)} \\right)\n",
    "  $$\n",
    "  $$\n",
    "  = \\ln \\left( \\frac{0.2506}{1 - 0.2506} \\right)  \\approx -1.099\n",
    "  $$\n",
    "\n",
    "\n",
    "\n",
    "\n",
    "#### Now we calculate the Coefficient\n",
    "\n",
    "\n",
    "- **Slope (Coefficient for `harvard`)**:\n",
    "  $$\n",
    "  \\beta_{\\text{harvard}} = \\text{Log-Odds}(\\text{harvard}=1) - \\text{Log-Odds}(\\text{harvard}=0)\n",
    "  $$\n",
    "  $$\n",
    "  = -0.909 - (-1.099) = 0.19\n",
    "  $$\n",
    "\n",
    "\n",
    "\n",
    "\n",
    "#### Intercept\n",
    "we directly use and assign harvard = 0\n",
    "\n",
    "  $$\n",
    "  \\beta_0 = \\text{Log-Odds}(\\text{harvard}=0) \\approx -1.099\n",
    "  $$\n",
    "\n",
    "\n",
    "\n",
    "#### Conclusion:\n",
    "\n",
    "- **Slope**: 0.19\n",
    "- **Intercept**: -1.10"
   ]
  },
  {
   "cell_type": "markdown",
   "metadata": {},
   "source": [
    "<div class=\"highlight-box\" style=\"border: 1px solid #ffcccb; background-color: #ffcccb; height: 5px;\"></div>"
   ]
  },
  {
   "cell_type": "code",
   "execution_count": 14,
   "metadata": {
    "tags": []
   },
   "outputs": [
    {
     "data": {
      "text/html": [
       "<div>\n",
       "<style scoped>\n",
       "    .dataframe tbody tr th:only-of-type {\n",
       "        vertical-align: middle;\n",
       "    }\n",
       "\n",
       "    .dataframe tbody tr th {\n",
       "        vertical-align: top;\n",
       "    }\n",
       "\n",
       "    .dataframe thead th {\n",
       "        text-align: right;\n",
       "    }\n",
       "</style>\n",
       "<table border=\"1\" class=\"dataframe\">\n",
       "  <thead>\n",
       "    <tr style=\"text-align: right;\">\n",
       "      <th>harvard</th>\n",
       "      <th>0</th>\n",
       "      <th>1</th>\n",
       "    </tr>\n",
       "    <tr>\n",
       "      <th>admitted</th>\n",
       "      <th></th>\n",
       "      <th></th>\n",
       "    </tr>\n",
       "  </thead>\n",
       "  <tbody>\n",
       "    <tr>\n",
       "      <th>0</th>\n",
       "      <td>667</td>\n",
       "      <td>699</td>\n",
       "    </tr>\n",
       "    <tr>\n",
       "      <th>1</th>\n",
       "      <td>223</td>\n",
       "      <td>282</td>\n",
       "    </tr>\n",
       "  </tbody>\n",
       "</table>\n",
       "</div>"
      ],
      "text/plain": [
       "harvard     0    1\n",
       "admitted          \n",
       "0         667  699\n",
       "1         223  282"
      ]
     },
     "metadata": {},
     "output_type": "display_data"
    },
    {
     "name": "stdout",
     "output_type": "stream",
     "text": [
      "Slope (coefficient for 'harvard'): 0.19\n",
      "Intercept: -1.10\n"
     ]
    }
   ],
   "source": [
    "# your code here\n",
    "# step1: \n",
    "contingency_table = pd.crosstab(college['admitted'], college['harvard'])\n",
    "display(contingency_table)\n",
    "\n",
    "# srtep2: Calculate probabilities from the contingency table\n",
    "# Probability of being admitted to Harvard and Yale\n",
    "p_admit_harvard = contingency_table.loc[1, 1] / contingency_table[1].sum()\n",
    "p_admit_yale = contingency_table.loc[1, 0] / contingency_table[0].sum()\n",
    "\n",
    "# # step3: Calculate the log-odds for Harvard and Yale\n",
    "log_odds_harvard = np.log(p_admit_harvard / (1 - p_admit_harvard))\n",
    "log_odds_yale = np.log(p_admit_yale / (1 - p_admit_yale))\n",
    "\n",
    "# Calculate the slope and intercept\n",
    "slope = log_odds_harvard - log_odds_yale\n",
    "intercept = log_odds_yale\n",
    "\n",
    "\n",
    "print(f\"Slope (coefficient for 'harvard'): {slope:.2f}\")\n",
    "print(f\"Intercept: {intercept:.2f}\")\n"
   ]
  },
  {
   "cell_type": "markdown",
   "metadata": {
    "cell_id": "0a790850-87c6-4f46-b89e-048a2295c92b",
    "colab_type": "text",
    "deletable": false,
    "editable": false,
    "id": "IGFtXJmQap2q"
   },
   "source": [
    "<!-- END QUESTION -->\n",
    "\n",
    "<!-- BEGIN QUESTION -->\n",
    "\n",
    "<div class='exercise-r'>\n",
    "\n",
    "**Q1.6** Compare the estimated probabilities of being admitted into the schools to the overall acceptance rate (as seen [here](https://www.ivycoach.com/2022-ivy-league-admissions-statistics/)).  Why may what you've observed in this comparison be the case?\n",
    "    \n",
    "</div>"
   ]
  },
  {
   "cell_type": "markdown",
   "metadata": {},
   "source": [
    "<div class=\"highlight-box\" style=\"border: 1px solid #ffcccb; background-color: #ffcccb; height: 5px;\"></div>"
   ]
  },
  {
   "cell_type": "markdown",
   "metadata": {},
   "source": [
    "The difference between the estimated probabilities from the logistic regression model (0.2938 for Harvard and 0.2445 for Yale) and the actual acceptance rates shown in the table (4.6% for Harvard and 6.3% for Yale) likely arises due to the limitations of our model.\n",
    "\n",
    "The logistic regression model only uses one variable (harvard) to distinguish between Harvard and Yale. This model doesn’t incorporate other important predictors like test scores, GPA, or other applicant characteristics that admissions committees consider, which limits its ability to accurately reflect the true selectivity.\n",
    "\n",
    "Furthermore, our dataset may overrepresent stronger applicants, thus inflating the likelihood of acceptance."
   ]
  },
  {
   "cell_type": "markdown",
   "metadata": {},
   "source": [
    "<div class=\"highlight-box\" style=\"border: 1px solid #ffcccb; background-color: #ffcccb; height: 5px;\"></div>"
   ]
  },
  {
   "cell_type": "markdown",
   "metadata": {
    "deletable": false,
    "editable": false
   },
   "source": [
    "<!-- END QUESTION -->\n",
    "\n",
    "---"
   ]
  },
  {
   "cell_type": "markdown",
   "metadata": {},
   "source": [
    "<a id=\"part2\"></a>\n",
    "\n",
    "## <div class='exercise'>Question 2: Interpretable modeling</div>\n",
    "\n",
    "[Return to contents](#contents)"
   ]
  },
  {
   "cell_type": "markdown",
   "metadata": {
    "cell_id": "0a790850-87c6-4f46-b89e-048a2295c92b",
    "colab_type": "text",
    "deletable": false,
    "editable": false,
    "id": "IGFtXJmQap2q"
   },
   "source": [
    "<div class='exercise-r'>\n",
    "\n",
    "**Q2.1** \n",
    "    \n",
    "- Fit a logistic regression model to predict `admitted` from `test_score` alone. Call it `logit2_1`.\n",
    "- Store the learned parameters in `logit2_1_intercept` and `logit2_1_coef_test_score`. \n",
    "- Store the train accuracy and mean 10-fold cross-validation accuracy in `acc_train_logit2_1` and `acc_cv_logit2_1`.\n",
    "\n",
    "**Note:** The coefficients and train accuracies should come from a model fit on all the training data. To calculate the mean 10-fold cross-validation accuracy, use `cross_val_score`. This should be the strategy used throughout the notebook except when using `LogisticRegressionCV` in later questions (since this model already gives you CV scores \"for free\"). Will will assume 10 folds whenever we cross-validate in this notebook.\n",
    "</div>"
   ]
  },
  {
   "cell_type": "code",
   "execution_count": 15,
   "metadata": {
    "tags": []
   },
   "outputs": [],
   "source": [
    "X_train = college_train[['test_score']]\n",
    "y_train = college_train['admitted']\n",
    "\n",
    "# Fit a logistic regression model \n",
    "logit2_1 = LogisticRegression(random_state=109, penalty=None, solver='lbfgs')\n",
    "logit2_1.fit(X_train, y_train)\n",
    "\n",
    "# Store the learned parameters \n",
    "logit2_1_intercept = logit2_1.intercept_[0]\n",
    "logit2_1_coef_test_score = logit2_1.coef_[0][0]\n",
    "\n",
    "\n",
    "#Train accuracy\n",
    "acc_train_logit2_1 = logit2_1.score(X_train, y_train)\n",
    "\n",
    "# mean 10-fold cross-validation accuracy\n",
    "acc_cv_logit2_1 = cross_val_score(logit2_1, X_train, y_train, cv = 10, scoring='accuracy').mean()\n",
    " "
   ]
  },
  {
   "cell_type": "code",
   "execution_count": 16,
   "metadata": {
    "deletable": false,
    "editable": false
   },
   "outputs": [
    {
     "name": "stdout",
     "output_type": "stream",
     "text": [
      "The intercept and coefficient for the 'logit2_1' model are:\n",
      "\tintercept           -10.5474\n",
      "\ttest_score          0.0043\n",
      "\n",
      "The classification accuracies for 'logit2_1' are:\n",
      "\n",
      "\tTrain\t0.7299\n",
      "\tCV\t0.7300\n"
     ]
    }
   ],
   "source": [
    "print(\"The intercept and coefficient for the 'logit2_1' model are:\")\n",
    "\n",
    "print(\"\\t{:<20}{:.4f}\".format('intercept', logit2_1_intercept))\n",
    "print(\"\\t{:<20}{:.4f}\".format('test_score', logit2_1_coef_test_score))\n",
    "\n",
    "print(\n",
    "    \"\\nThe classification accuracies for 'logit2_1' are:\"\n",
    "    \"\\n\\n\\tTrain\\t{:.4f}\\n\\tCV\\t{:.4f}\".format(\n",
    "        acc_train_logit2_1, acc_cv_logit2_1\n",
    "    )\n",
    ")"
   ]
  },
  {
   "cell_type": "code",
   "execution_count": 17,
   "metadata": {
    "deletable": false,
    "editable": false
   },
   "outputs": [
    {
     "data": {
      "text/html": [
       "<p><strong><pre style='display: inline;'>q2.1</pre></strong> passed! 🍀</p>"
      ],
      "text/plain": [
       "q2.1 results: All test cases passed!"
      ]
     },
     "execution_count": 17,
     "metadata": {},
     "output_type": "execute_result"
    }
   ],
   "source": [
    "grader.check(\"q2.1\")"
   ]
  },
  {
   "cell_type": "markdown",
   "metadata": {
    "cell_id": "0a790850-87c6-4f46-b89e-048a2295c92b",
    "colab_type": "text",
    "deletable": false,
    "editable": false,
    "id": "IGFtXJmQap2q"
   },
   "source": [
    "<div class='exercise-r'>\n",
    "\n",
    "**Q2.2**\n",
    "    \n",
    "- What is the estimated probability of an applicant being admitted with a `test_score` of 2250? Store this in `prob_test_2250`.\n",
    "- What about if they had a perfect test score of 2400? Store this in `prob_test_2400`.\n",
    "- What test score would be needed to have a 50-50 chance (i.e. 0.5 probability) of being admitted? Store this in `test_50_50`.\n",
    "    \n",
    "</div>"
   ]
  },
  {
   "cell_type": "code",
   "execution_count": 18,
   "metadata": {
    "tags": []
   },
   "outputs": [],
   "source": [
    "# the coefficient and intercept \n",
    "logit2_1_intercept\n",
    "logit2_1_coef_test_score\n",
    "\n",
    "\n",
    "# formula:\n",
    "#１／e ^(-(b0 + b1*X))\n",
    "prob_test_2250 =  1 / (1 + np.exp(-(logit2_1_intercept + logit2_1_coef_test_score * 2250)))\n",
    "prob_test_2400 = 1 / (1 + np.exp(-(logit2_1_intercept + logit2_1_coef_test_score * 2400)))\n",
    "\n",
    "\n",
    "# logit(p) = 0, so we are trying to solve :\n",
    "# 0 = intercept + coef * test_score\n",
    "test_50_50 = -logit2_1_intercept / logit2_1_coef_test_score"
   ]
  },
  {
   "cell_type": "code",
   "execution_count": 19,
   "metadata": {
    "deletable": false,
    "editable": false
   },
   "outputs": [
    {
     "name": "stdout",
     "output_type": "stream",
     "text": [
      "The estimated chances of an applicant being admitted with the following two 'test' scores:\n",
      "\n",
      "\tscore\tprobabilities\n",
      "\t2250\t0.3019\n",
      "\t2400\t0.4525\n",
      "\n",
      "The test score required to have a 50-50 chance of being admitted is approximately:\n",
      "\n",
      "\t2444.20\n"
     ]
    }
   ],
   "source": [
    "print(\n",
    "    \"The estimated chances of an applicant being admitted with \"\n",
    "    \"the following two 'test' scores:\\n\\n\\tscore\\tprobabilities\"\n",
    "    \"\\n\\t2250\\t{:.4f}\\n\\t2400\\t{:.4f}\\n\"\n",
    "    .format(prob_test_2250, prob_test_2400)\n",
    ")\n",
    "\n",
    "print(\n",
    "    \"The test score required to have a 50-50 chance of being \"\n",
    "    \"admitted is approximately:\\n\\n\\t{:.2f}\"\n",
    "    .format(test_50_50)\n",
    ")"
   ]
  },
  {
   "cell_type": "code",
   "execution_count": 20,
   "metadata": {
    "deletable": false,
    "editable": false
   },
   "outputs": [
    {
     "data": {
      "text/html": [
       "<p><strong><pre style='display: inline;'>q2.2</pre></strong> passed! 💯</p>"
      ],
      "text/plain": [
       "q2.2 results: All test cases passed!"
      ]
     },
     "execution_count": 20,
     "metadata": {},
     "output_type": "execute_result"
    }
   ],
   "source": [
    "grader.check(\"q2.2\")"
   ]
  },
  {
   "cell_type": "markdown",
   "metadata": {
    "cell_id": "0a790850-87c6-4f46-b89e-048a2295c92b",
    "colab_type": "text",
    "deletable": false,
    "editable": false,
    "id": "IGFtXJmQap2q"
   },
   "source": [
    "<div class='exercise-r'>\n",
    "\n",
    "**Q2.3** Fit a logistic regression model to predict `admitted` from `test_score` and `avg_ap` (call it `logit2_3`).  Store the train and mean cv accuracies calculated as before in `acc_train_logit2_3` and `acc_cv_logit2_3`. Then use the provided code to print out the coefficient estimates along with the accuracy scores.\n",
    "    \n",
    "</div>"
   ]
  },
  {
   "cell_type": "code",
   "execution_count": 21,
   "metadata": {
    "tags": []
   },
   "outputs": [],
   "source": [
    "X_train_2_3 = college_train[['test_score', 'avg_ap']]\n",
    "y_train_2_3 = college_train['admitted']\n",
    "\n",
    "\n",
    "logit2_3 = LogisticRegression(random_state=109, penalty= None, solver='lbfgs')\n",
    "logit2_3.fit(X_train_2_3, y_train_2_3)\n",
    "\n",
    "logit2_3_intercept = logit2_3.intercept_[0]\n",
    "logit2_3_coef_test_score = logit2_3.coef_[0][0]\n",
    "logit2_3_coef_avg_ap = logit2_3.coef_[0][1]\n",
    "\n",
    "acc_train_logit2_3 = logit2_3.score(X_train_2_3, y_train_2_3)\n",
    "\n",
    "\n",
    "# Calculate mean 10-fold cross-validation accuracy\n",
    "acc_cv_logit2_3 = cross_val_score(logit2_3, X_train_2_3, y_train_2_3, cv=10, scoring='accuracy').mean()"
   ]
  },
  {
   "cell_type": "code",
   "execution_count": 22,
   "metadata": {
    "deletable": false,
    "editable": false
   },
   "outputs": [
    {
     "name": "stdout",
     "output_type": "stream",
     "text": [
      "The intercept and coefficients for the 'logit2_3' model are:\n",
      "\tintercept           -10.9086\n",
      "\ttest                0.0046\n",
      "\tavg_ap              -0.0723\n",
      "\n",
      "The classification accuracies for 'logit2_3' are:\n",
      "\n",
      "\tTrain\t0.7306\n",
      "\tCV\t0.7299\n"
     ]
    }
   ],
   "source": [
    "# Print the results of logit2_3\n",
    "print(\"The intercept and coefficients for the 'logit2_3' model are:\")\n",
    "print(\"\\t{:<20}{:.4f}\".format('intercept', logit2_3_intercept))\n",
    "print(\"\\t{:<20}{:.4f}\".format('test', logit2_3_coef_test_score))\n",
    "print(\"\\t{:<20}{:.4f}\".format('avg_ap', logit2_3_coef_avg_ap))\n",
    "\n",
    "print(\n",
    "    \"\\nThe classification accuracies for 'logit2_3' are:\\n\\n\\tTrain\\t{:.4f}\\n\\tCV\\t{:.4f}\"\n",
    "    .format(acc_train_logit2_3, acc_cv_logit2_3)\n",
    ")"
   ]
  },
  {
   "cell_type": "code",
   "execution_count": 23,
   "metadata": {
    "deletable": false,
    "editable": false
   },
   "outputs": [
    {
     "data": {
      "text/html": [
       "<p><strong><pre style='display: inline;'>q2.3</pre></strong> passed! 🙌</p>"
      ],
      "text/plain": [
       "q2.3 results: All test cases passed!"
      ]
     },
     "execution_count": 23,
     "metadata": {},
     "output_type": "execute_result"
    }
   ],
   "source": [
    "grader.check(\"q2.3\")"
   ]
  },
  {
   "cell_type": "markdown",
   "metadata": {
    "cell_id": "0a790850-87c6-4f46-b89e-048a2295c92b",
    "colab_type": "text",
    "deletable": false,
    "editable": false,
    "id": "IGFtXJmQap2q"
   },
   "source": [
    "<!-- BEGIN QUESTION -->\n",
    "\n",
    "<div class='exercise-r'>\n",
    "\n",
    "**Q2.4** Interpret the coefficient estimates for both predictors in `logit2_3` and compare the coefficient estimate for `test_score` to the one from `logit2_1`.  Why has this estimate changed?\n",
    "\n",
    "You should inspect the relationship between `test_score` and `avg_ap` to help get a better sense for what might be happening here.\n",
    "\n",
    "</div>"
   ]
  },
  {
   "cell_type": "code",
   "execution_count": 24,
   "metadata": {
    "deletable": false,
    "editable": false
   },
   "outputs": [
    {
     "name": "stdout",
     "output_type": "stream",
     "text": [
      "The intercept and coefficient for the 'logit2_1' model are:\n",
      "\tintercept           -10.5474\n",
      "\ttest_score          0.0043\n",
      "The intercept and coefficients for the 'logit2_3' model are:\n",
      "\tintercept           -10.9086\n",
      "\ttest_score          0.0046\n",
      "\tavg_ap              -0.0723\n"
     ]
    }
   ],
   "source": [
    "# Print the parameters of the last 2 models\n",
    "print(\"The intercept and coefficient for the 'logit2_1' model are:\")\n",
    "\n",
    "print(\"\\t{:<20}{:.4f}\".format('intercept', logit2_1_intercept))\n",
    "print(\"\\t{:<20}{:.4f}\".format('test_score', logit2_1_coef_test_score))\n",
    "\n",
    "print(\"The intercept and coefficients for the 'logit2_3' model are:\")\n",
    "print(\"\\t{:<20}{:.4f}\".format('intercept', logit2_3_intercept))\n",
    "print(\"\\t{:<20}{:.4f}\".format('test_score', logit2_3_coef_test_score))\n",
    "print(\"\\t{:<20}{:.4f}\".format('avg_ap', logit2_3_coef_avg_ap))"
   ]
  },
  {
   "cell_type": "markdown",
   "metadata": {},
   "source": [
    "<div class=\"highlight-box\" style=\"border: 1px solid #ffcccb; background-color: #ffcccb; height: 5px;\"></div>"
   ]
  },
  {
   "cell_type": "markdown",
   "metadata": {},
   "source": [
    "<div class=\"highlight-box\" style=\"border: 1px solid #ffcccb; background-color: #ffcccb; height: 5px;\"></div>"
   ]
  },
  {
   "cell_type": "markdown",
   "metadata": {
    "tags": []
   },
   "source": [
    "In logit2_3, the coefficient for test_score (0.0046) is slightly higher than in logit2_1 (0.0043), while avg_ap has a negative coefficient (-0.0723). This suggests that holding avg_ap constant, higher test scores increase admission odds. The slight change in test_score's coefficient reflects the relationship between test_score and avg_ap, indicating some overlap in their predictive information. Adding avg_ap isolates test_score's effect more distinctly, hence the adjustment.\n"
   ]
  },
  {
   "cell_type": "markdown",
   "metadata": {
    "cell_id": "0a790850-87c6-4f46-b89e-048a2295c92b",
    "colab_type": "text",
    "deletable": false,
    "editable": false,
    "id": "IGFtXJmQap2q"
   },
   "source": [
    "<!-- END QUESTION -->\n",
    "\n",
    "<!-- BEGIN QUESTION -->\n",
    "\n",
    "<div class='exercise-r'>\n",
    "\n",
    "**Q2.5** Interpret and compare the train and cv accuracies for the two models, `logit2_1` and `logit2_3`.  Explain why these accuracies are the same or different, and what about the data makes these accuracies so similar or different.\n",
    "\n",
    "</div>"
   ]
  },
  {
   "cell_type": "code",
   "execution_count": 25,
   "metadata": {
    "deletable": false,
    "editable": false
   },
   "outputs": [
    {
     "name": "stdout",
     "output_type": "stream",
     "text": [
      "\n",
      "The classification accuracies for 'logit2_1' are:\n",
      "\n",
      "\tTrain\t0.7299\n",
      "\tCV\t0.7300\n",
      "\n",
      "The classification accuracies for 'logit2_3' are:\n",
      "\n",
      "\tTrain\t0.7306\n",
      "\tCV\t0.7299\n"
     ]
    }
   ],
   "source": [
    "# Display accuracies of last 2 models\n",
    "print(\n",
    "    \"\\nThe classification accuracies for 'logit2_1' are:\\n\\n\\tTrain\\t{:.4f}\\n\\tCV\\t{:.4f}\"\n",
    "    .format(acc_train_logit2_1, acc_cv_logit2_1)\n",
    ")\n",
    "print(\n",
    "    \"\\nThe classification accuracies for 'logit2_3' are:\\n\\n\\tTrain\\t{:.4f}\\n\\tCV\\t{:.4f}\"\n",
    "    .format(acc_train_logit2_3, acc_cv_logit2_3)\n",
    ")"
   ]
  },
  {
   "cell_type": "markdown",
   "metadata": {},
   "source": [
    "<div class=\"highlight-box\" style=\"border: 1px solid #ffcccb; background-color: #ffcccb; height: 5px;\"></div>"
   ]
  },
  {
   "cell_type": "markdown",
   "metadata": {},
   "source": [
    "The train and CV accuracies for logit2_1 and logit2_3 are nearly identical, showing avg_ap adds minimal predictive value. This similarity suggests test_score is the main driver in admissions prediction, with avg_ap offering little new insight, likely due to some correlation. Thus, adding avg_ap results in only a slight accuracy change."
   ]
  },
  {
   "cell_type": "markdown",
   "metadata": {},
   "source": [
    "<div class=\"highlight-box\" style=\"border: 1px solid #ffcccb; background-color: #ffcccb; height: 5px;\"></div>"
   ]
  },
  {
   "cell_type": "markdown",
   "metadata": {
    "deletable": false,
    "editable": false
   },
   "source": [
    "<!-- END QUESTION -->\n",
    "\n",
    "---"
   ]
  },
  {
   "cell_type": "markdown",
   "metadata": {},
   "source": [
    "<a id=\"part3\"></a>\n",
    "\n",
    "## <div class='exercise'>Question 3: Harvard and Yale?</div>\n",
    "\n",
    "[Return to contents](#contents)"
   ]
  },
  {
   "cell_type": "markdown",
   "metadata": {
    "cell_id": "0a790850-87c6-4f46-b89e-048a2295c92b",
    "colab_type": "text",
    "deletable": false,
    "editable": false,
    "id": "IGFtXJmQap2q"
   },
   "source": [
    "<!-- BEGIN QUESTION -->\n",
    "\n",
    "<div class='exercise-r'>\n",
    "\n",
    "**Q3.1**\n",
    "- Fit a logistic regression model (call it `logit3_1`) to predict `admitted` from 7 predictors: `[\"harvard\", \"test_score\", \"ap\", \"avg_ap\", \"gpa\", \"female\", \"minority\"]`.\n",
    "- Store the train and mean cv accuracies in `acc_train_logit3_1` and `acc_cv_logit3_1`.\n",
    "- Interpret the coefficients for the binary predictors in this model.\n",
    "\n",
    "**Hint:**\n",
    "- If you have convergence warnings, increasing the maximum number of iterations will likely solve this issue.\n",
    "    \n",
    "</div>"
   ]
  },
  {
   "cell_type": "code",
   "execution_count": 26,
   "metadata": {
    "deletable": false,
    "editable": false
   },
   "outputs": [],
   "source": [
    "# Print statements below assume predictors used in this order\n",
    "logit3_1_predictors = [\"harvard\", \"test_score\", \"ap\", \"avg_ap\", \"gpa\", \"female\", \"minority\"]"
   ]
  },
  {
   "cell_type": "markdown",
   "metadata": {},
   "source": [
    "<div class=\"highlight-box\" style=\"border: 1px solid #ffcccb; background-color: #ffcccb; height: 5px;\"></div>"
   ]
  },
  {
   "cell_type": "markdown",
   "metadata": {},
   "source": [
    "Intercept (-13.2643): This represents the baseline log-odds of admission when all predictors are zero, establishing a low starting probability of admission.\n",
    "\n",
    "Harvard (0.2588): This positive coefficient suggests that applying to Harvard (rather than Yale) marginally increases the log-odds of admission, although the effect is modest.\n",
    "\n",
    "Female (-0.0492): This negative coefficient indicates that identifying as female slightly reduces the log-odds of admission, though the effect is minimal.\n",
    "\n",
    "Minority (0.7719): This positive coefficient has the most substantial impact among the binary predictors, suggesting that being from a minority background significantly increases the log-odds of admission. This may reflect diversity initiatives that favour minority applicants.\n",
    "\n",
    "\n",
    "The training and cross-validation accuracies are similar (0.7353 and 0.7300), suggesting that the model generalises reasonably well to unseen data. Including these binary predictors adds some predictive value, as seen in the slight improvement in accuracy over simpler models."
   ]
  },
  {
   "cell_type": "markdown",
   "metadata": {},
   "source": [
    "<div class=\"highlight-box\" style=\"border: 1px solid #ffcccb; background-color: #ffcccb; height: 5px;\"></div>"
   ]
  },
  {
   "cell_type": "code",
   "execution_count": 27,
   "metadata": {
    "scrolled": true,
    "tags": []
   },
   "outputs": [],
   "source": [
    "\n",
    "X_train_3_1 = college_train[logit3_1_predictors]\n",
    "y_train_3_1 = college_train['admitted']\n",
    "\n",
    "#fit the model\n",
    "logit3_1 = LogisticRegression(random_state=109, penalty=None, solver='lbfgs', max_iter=1000)\n",
    "logit3_1.fit(X_train_3_1, y_train_3_1)\n",
    "\n",
    "\n",
    "acc_train_logit3_1 = logit3_1.score(X_train_3_1, y_train_3_1)\n",
    "acc_cv_logit3_1 = cross_val_score(logit3_1, X_train_3_1, y_train_3_1, cv=10, scoring='accuracy').mean()"
   ]
  },
  {
   "cell_type": "code",
   "execution_count": 28,
   "metadata": {
    "tags": []
   },
   "outputs": [
    {
     "name": "stdout",
     "output_type": "stream",
     "text": [
      "The intercept and coefficients for the 'logit3_1' model are:\n",
      "\n",
      "\tintercept           -13.2643\n",
      "\tharvard             0.2588\n",
      "\ttest_score          0.0052\n",
      "\tap                  -0.0483\n",
      "\tavg_ap              -0.0307\n",
      "\tgpa                 0.2168\n",
      "\tfemale              -0.0492\n",
      "\tminority            0.7719\n",
      "\n",
      "The classification accuracies for 'logit3_1' are:\n",
      "\n",
      "\tTrain\t0.7353\n",
      "\tCV\t0.7300\n"
     ]
    }
   ],
   "source": [
    "# Grab model's intercept and coefs regardless of their shape\n",
    "# (which depends on how x and y were shaped)\n",
    "logit3_1_intercept = np.array(logit3_1.intercept_).flatten()[0]\n",
    "logit3_1_coefs = logit3_1.coef_.flatten()\n",
    "\n",
    "print(\n",
    "    \"The intercept and coefficients for the 'logit3_1' model are:\"\n",
    "    \"\\n\\n\\t{:<20}{:.4f}\".format(\n",
    "        \"intercept\", logit3_1_intercept\n",
    "    )\n",
    ")\n",
    "for predictor, coef in zip(logit3_1_predictors, logit3_1_coefs):\n",
    "    print(\"\\t{:<20}{:.4f}\".format(predictor, coef))\n",
    "\n",
    "print(\n",
    "    \"\\nThe classification accuracies for 'logit3_1' are:\"\n",
    "    \"\\n\\n\\tTrain\\t{:.4f}\\n\\tCV\\t{:.4f}\"\n",
    "    .format(acc_train_logit3_1, acc_cv_logit3_1)\n",
    ")"
   ]
  },
  {
   "cell_type": "code",
   "execution_count": 29,
   "metadata": {
    "deletable": false,
    "editable": false
   },
   "outputs": [
    {
     "data": {
      "text/html": [
       "<p><strong><pre style='display: inline;'>q3.1</pre></strong> passed! 🎉</p>"
      ],
      "text/plain": [
       "q3.1 results: All test cases passed!"
      ]
     },
     "execution_count": 29,
     "metadata": {},
     "output_type": "execute_result"
    }
   ],
   "source": [
    "grader.check(\"q3.1\")"
   ]
  },
  {
   "cell_type": "markdown",
   "metadata": {
    "cell_id": "0a790850-87c6-4f46-b89e-048a2295c92b",
    "colab_type": "text",
    "deletable": false,
    "editable": false,
    "id": "IGFtXJmQap2q"
   },
   "source": [
    "<!-- END QUESTION -->\n",
    "\n",
    "<div class='exercise-r'>\n",
    "\n",
    "**Q3.2** Fit a logistic regression model (call it `logit3_2`) to predict `admitted` from 3 predictors: `[\"harvard\", \"test_score\", \"ap\"]` along with the 2 interaction terms: `harvard` with `test_score` and `harvard` with `ap`. Name the columns for these interaction terms `harvard_test_score` and `harvard_ap`. Store the train and mean cv accuracies in `acc_train_logit3_2` and `acc_cv_logit3_2`.\n",
    "\n",
    "</div>"
   ]
  },
  {
   "cell_type": "code",
   "execution_count": 30,
   "metadata": {
    "deletable": false,
    "editable": false
   },
   "outputs": [],
   "source": [
    "# Print statement below assumes this order of predictors\n",
    "logit3_2_predictors = [\"harvard\", \"test_score\", \"ap\", \"harvard_test_score\", \"harvard_ap\"]"
   ]
  },
  {
   "cell_type": "code",
   "execution_count": 31,
   "metadata": {
    "tags": []
   },
   "outputs": [],
   "source": [
    "# create new variables\n",
    "college_train[\"harvard_test_score\"] = college_train[\"harvard\"] * college_train[\"test_score\"]\n",
    "college_train[\"harvard_ap\"] = college_train[\"harvard\"] * college_train[\"ap\"]\n",
    "\n",
    "logit3_2_predictors = [\"harvard\", \"test_score\", \"ap\", \"harvard_test_score\", \"harvard_ap\"]\n",
    "X_train_3_2 = college_train[logit3_2_predictors]\n",
    "y_train_3_2 = college_train['admitted']\n",
    "\n",
    "#fit the model\n",
    "logit3_2 = LogisticRegression(random_state=109, penalty=None, solver='lbfgs', max_iter=1000)\n",
    "logit3_2.fit(X_train_3_2, y_train_3_2)\n",
    "\n",
    "acc_train_logit3_2 = logit3_2.score(X_train_3_2, y_train_3_2)\n",
    "\n",
    "acc_cv_logit3_2 = cross_val_score(logit3_2, X_train_3_2, y_train_3_2, cv=10, scoring='accuracy').mean()"
   ]
  },
  {
   "cell_type": "code",
   "execution_count": 32,
   "metadata": {
    "tags": []
   },
   "outputs": [
    {
     "name": "stdout",
     "output_type": "stream",
     "text": [
      "The intercept and coefficients for the 'logit3_2' model are:\n",
      "\n",
      "\tintercept           -9.8464\n",
      "\tharvard             -2.0378\n",
      "\ttest_score          0.0039\n",
      "\tap                  0.0048\n",
      "\tharvard_test_score  0.0012\n",
      "\tharvard_ap          -0.1045\n",
      "\n",
      "The classification accuracies for 'logit3_2' are:\n",
      "\n",
      "\tTrain\t0.7360\n",
      "\tCV\t0.7353\n"
     ]
    }
   ],
   "source": [
    "# Print results of logit3_2\n",
    "logit3_2_intercept = np.array(logit3_2.intercept_).flatten()[0]\n",
    "logit3_2_coefs = logit3_2.coef_.flatten()\n",
    "\n",
    "print(\n",
    "    \"The intercept and coefficients for the 'logit3_2' model are:\"\n",
    "    \"\\n\\n\\t{:<20}{:.4f}\".format(\n",
    "        \"intercept\", logit3_2_intercept\n",
    "    )\n",
    ")\n",
    "\n",
    "for predictor, coef in zip(logit3_2_predictors, logit3_2_coefs):\n",
    "    print(\"\\t{:<20}{:.4f}\".format(predictor, coef))\n",
    "    \n",
    "print(\n",
    "    \"\\nThe classification accuracies for 'logit3_2' are:\"\n",
    "    \"\\n\\n\\tTrain\\t{:.4f}\\n\\tCV\\t{:.4f}\"\n",
    "    .format(acc_train_logit3_2, acc_cv_logit3_2)\n",
    ")"
   ]
  },
  {
   "cell_type": "code",
   "execution_count": 33,
   "metadata": {
    "deletable": false,
    "editable": false
   },
   "outputs": [
    {
     "data": {
      "text/html": [
       "<p><strong><pre style='display: inline;'>q3.2</pre></strong> passed! 🎉</p>"
      ],
      "text/plain": [
       "q3.2 results: All test cases passed!"
      ]
     },
     "execution_count": 33,
     "metadata": {},
     "output_type": "execute_result"
    }
   ],
   "source": [
    "grader.check(\"q3.2\")"
   ]
  },
  {
   "cell_type": "markdown",
   "metadata": {
    "cell_id": "0a790850-87c6-4f46-b89e-048a2295c92b",
    "colab_type": "text",
    "deletable": false,
    "editable": false,
    "id": "IGFtXJmQap2q"
   },
   "source": [
    "<!-- BEGIN QUESTION -->\n",
    "\n",
    "<div class='exercise-r'>\n",
    "\n",
    "**Q3.3** Simplify and write out mathematically the above model from Question 3.2 for 2 applicants:\n",
    "1. someone who is applying to Harvard\n",
    "2. someone who is applying to Yale (keep `test_score` and `ap` as the unknown $X$s).\n",
    "\n",
    "The basic framework given to you below may be helpful:\n",
    "\n",
    "$$ \\ln \\left( \\frac{P(Y=1)}{1-P(Y=1)} \\right) = \\beta_0 + \\beta_1 X_1 + \\dots + \\beta_p X_p $$\n",
    "    \n",
    "**NOTE:** All of your mathematical statements should be written out in your markdown cells using $\\LaTeX$. Show all your steps, not just the final result.\n",
    "\n",
    "</div>"
   ]
  },
  {
   "cell_type": "markdown",
   "metadata": {},
   "source": [
    "<div class=\"highlight-box\" style=\"border: 1px solid #ffcccb; background-color: #ffcccb; height: 5px;\"></div>"
   ]
  },
  {
   "cell_type": "markdown",
   "metadata": {},
   "source": [
    "\n",
    "Given the logistic regression model:\n",
    "\n",
    "$$ \\ln \\left( \\frac{P(Y=1)}{1-P(Y=1)} \\right) = \\beta_0 + \\beta_1 \\cdot \\text{harvard} + \\beta_2 \\cdot \\text{test\\_score} + \\beta_3 \\cdot \\text{ap} + \\beta_4 \\cdot (\\text{harvard} \\times \\text{test\\_score}) + \\beta_5 \\cdot (\\text{harvard} \\times \\text{ap}) $$\n",
    "\n",
    "### Summary of the Model for Each Applicant:\n",
    "\n",
    "1. **Harvard Applicant**:\n",
    "   $$\n",
    "   \\ln \\left( \\frac{P(Y=1)}{1 - P(Y=1)} \\right) = \\beta_0 + \\beta_1 + (\\beta_2 + \\beta_4) \\cdot \\text{test\\_score} + (\\beta_3 + \\beta_5) \\cdot \\text{ap}\n",
    "   $$\n",
    "\n",
    "2. **Yale Applicant**:\n",
    "   $$\n",
    "   \\ln \\left( \\frac{P(Y=1)}{1 - P(Y=1)} \\right) = \\beta_0 + \\beta_2 \\cdot \\text{test\\_score} + \\beta_3 \\cdot \\text{ap}\n",
    "   $$"
   ]
  },
  {
   "cell_type": "markdown",
   "metadata": {},
   "source": [
    "<div class=\"highlight-box\" style=\"border: 1px solid #ffcccb; background-color: #ffcccb; height: 5px;\"></div>"
   ]
  },
  {
   "cell_type": "markdown",
   "metadata": {
    "cell_id": "0a790850-87c6-4f46-b89e-048a2295c92b",
    "colab_type": "text",
    "deletable": false,
    "editable": false,
    "id": "IGFtXJmQap2q"
   },
   "source": [
    "<!-- END QUESTION -->\n",
    "\n",
    "<!-- BEGIN QUESTION -->\n",
    "\n",
    "<div class='exercise-r'>\n",
    "\n",
    "**Q3.4** Determine two classification boundaries mathematically for the model in the previous part (using the estimated coefficients): What range of values of `test_score` as a function of `ap` would an applicant be predicted to have a better than 50% chance (i.e. 0.5 probability) of being admitted into the college they applied to? \n",
    "\n",
    "Use the function for Harvard to answer the following question: if a student scored a perfect 2400 on `test_score`, what is the range of AP tests they should take in order to have a better than 50% chance of being admitted into Harvard?\n",
    "\n",
    "Again, you should show your work in $\\LaTeX$.\n",
    "</div>"
   ]
  },
  {
   "cell_type": "markdown",
   "metadata": {},
   "source": [
    "<div class=\"highlight-box\" style=\"border: 1px solid #ffcccb; background-color: #ffcccb; height: 5px;\"></div>"
   ]
  },
  {
   "cell_type": "markdown",
   "metadata": {},
   "source": [
    "To determine the range of `test_score` values as a function of `ap` for a greater than 50% chance of admission, we set up the model such that the log-odds equals zero.\n",
    "\n",
    "Given the model:\n",
    "\n",
    "$$ \\ln \\left( \\frac{P(Y=1)}{1 - P(Y=1)} \\right) = \\beta_0 + \\beta_1 \\cdot \\text{harvard} + \\beta_2 \\cdot \\text{test\\_score} + \\beta_3 \\cdot \\text{ap} + \\beta_4 \\cdot (\\text{harvard} \\times \\text{test\\_score}) + \\beta_5 \\cdot (\\text{harvard} \\times \\text{ap}) $$\n",
    "\n",
    "### 1. Harvard Applicant\n",
    "For a Harvard applicant (`harvard = 1`), the log-odds equation becomes:\n",
    "\n",
    "$$\n",
    "0 = \\beta_0 + \\beta_1 + (\\beta_2 + \\beta_4) \\cdot \\text{test\\_score} + (\\beta_3 + \\beta_5) \\cdot \\text{ap}\n",
    "$$\n",
    "\n",
    "Solving for `test_score`:\n",
    "\n",
    "$$\n",
    "\\text{test\\_score} = -\\frac{\\beta_0 + \\beta_1 + (\\beta_3 + \\beta_5) \\cdot \\text{ap}}{\\beta_2 + \\beta_4}\n",
    "$$\n",
    "\n",
    "\n",
    "\n",
    "\n",
    "### 2. Yale Applicant\n",
    "For a Yale applicant (`harvard = 0`):\n",
    "\n",
    "$$\n",
    "0 = \\beta_0 + \\beta_2 \\cdot \\text{test\\_score} + \\beta_3 \\cdot \\text{ap}\n",
    "$$\n",
    "\n",
    "Solving for `test_score`:\n",
    "\n",
    "$$\n",
    "\\text{test\\_score} = -\\frac{\\beta_0 + \\beta_3 \\cdot \\text{ap}}{\\beta_2}\n",
    "$$\n",
    "\n",
    "\n",
    "\n",
    "\n",
    "\n",
    "### 3. Applying to Harvard with `test_score = 2400`\n",
    "For a Harvard applicant with `test_score = 2400`, we solve for `ap`:\n",
    "\n",
    "$$\n",
    "\\text{ap} = -\\frac{\\beta_0 + \\beta_1 + (\\beta_2 + \\beta_4) \\cdot 2400}{\\beta_3 + \\beta_5}\n",
    "$$\n",
    "\n",
    "This gives the minimum `ap` value required for a greater than 50% chance of admission.\n"
   ]
  },
  {
   "cell_type": "markdown",
   "metadata": {},
   "source": [
    "<div class=\"highlight-box\" style=\"border: 1px solid #ffcccb; background-color: #ffcccb; height: 5px;\"></div>"
   ]
  },
  {
   "cell_type": "markdown",
   "metadata": {
    "cell_id": "0a790850-87c6-4f46-b89e-048a2295c92b",
    "colab_type": "text",
    "deletable": false,
    "editable": false,
    "id": "IGFtXJmQap2q"
   },
   "source": [
    "<!-- END QUESTION -->\n",
    "\n",
    "<!-- BEGIN QUESTION -->\n",
    "\n",
    "<div class='exercise-r'>\n",
    "\n",
    "**Q3.5** Create two separate scatterplots (one for Harvard applicants and one for Yale applicants) with the predictor `test_score` on the y-axis and `ap` on the x-axis where `admitted` is color-coded and the marker denotes train vs. test data.  Then add the appropriate classification boundary from the previous question (Q3.4).  Compare these two plots (including both the location of the boundaries and where the points lie around these boundaries).\n",
    "\n",
    "**NOTE:** As always, please be certain (a) your plot is titled, (b) everything is clearly labeled, and (c) the plot itself is formatted in a manner that makes it easy to read and interpret. It will likely take some careful work here to generate plots with data points that are clear and easy to see. You might try 'dithering' the points with a random offset so they are not all on top of one another.\n",
    "    \n",
    "</div>"
   ]
  },
  {
   "cell_type": "markdown",
   "metadata": {},
   "source": [
    "<div class=\"highlight-box\" style=\"border: 1px solid #ffcccb; background-color: #ffcccb; height: 5px;\"></div>"
   ]
  },
  {
   "cell_type": "markdown",
   "metadata": {},
   "source": [
    "### Harvard Applicants \n",
    "- **Boundary**: The positive slope indicates that higher `test_score` is needed as `ap` increases for a better-than-50% admission chance.\n",
    "- **Data Distribution**: Most applicants fall below the boundary, showing low admission probability, with train and test data similarly spread around the boundary.\n",
    "\n",
    "### Yale Applicants \n",
    "- **Boundary**: The nearly flat boundary shows `ap` has minimal impact; admission is mainly driven by `test_score`.\n",
    "- **Data Distribution**: Similar pattern as Harvard, with most applicants below the boundary, and a consistent spread of train and test points.\n",
    "\n",
    "### Comparison\n",
    "- **Boundary Influence**: Harvard's boundary is affected by both `test_score` and `ap`, whereas Yale's boundary is largely driven by `test_score` alone, reflecting distinct admission criteria for each institution.\n"
   ]
  },
  {
   "cell_type": "markdown",
   "metadata": {},
   "source": [
    "<div class=\"highlight-box\" style=\"border: 1px solid #ffcccb; background-color: #ffcccb; height: 5px;\"></div>"
   ]
  },
  {
   "cell_type": "code",
   "execution_count": 34,
   "metadata": {
    "tags": []
   },
   "outputs": [],
   "source": [
    "# Create interaction terms for train dataset\n",
    "college_train[\"harvard_test_score\"] = college_train[\"harvard\"] * college_train[\"test_score\"]\n",
    "college_train[\"harvard_ap\"] = college_train[\"harvard\"] * college_train[\"ap\"]\n",
    "\n",
    "#  test sets\n",
    "college_test[\"harvard_test_score\"] = college_test[\"harvard\"] * college_test[\"test_score\"]\n",
    "college_test[\"harvard_ap\"] = college_test[\"harvard\"] * college_test[\"ap\"]\n",
    "\n",
    "harvard_train = college_train[college_train[\"harvard\"] == 1]\n",
    "yale_train = college_train[college_train[\"harvard\"] == 0]\n",
    "harvard_test = college_test[college_test[\"harvard\"] == 1]\n",
    "yale_test = college_test[college_test[\"harvard\"] == 0]\n",
    "\n",
    "\n",
    "# Retrieve the intercept and coefficients for the classification boundary from 3.4\n",
    "beta_0 = logit3_2.intercept_[0]\n",
    "beta_1, beta_2, beta_3, beta_4, beta_5 = logit3_2.coef_[0]\n"
   ]
  },
  {
   "cell_type": "code",
   "execution_count": 35,
   "metadata": {
    "tags": []
   },
   "outputs": [
    {
     "data": {
      "image/png": "[encoded data removed]",
      "text/plain": [
       "<Figure size 1400x600 with 2 Axes>"
      ]
     },
     "metadata": {},
     "output_type": "display_data"
    }
   ],
   "source": [
    " # plotting the classification boundaries as follows:\n",
    "# Calculate the Harvard and Yale classification boundaries using the values for beta_0 through beta_5.\n",
    "# Generate the scatter plots for Harvard and Yale applicants, adding these boundaries for a clearer visual separation.\n",
    "\n",
    "# Define the range of AP values for the classification boundary lines\n",
    "ap_values = np.linspace(0, 15, 100)  # Adjust range as needed\n",
    "\n",
    "# Calculate the classification boundaries for Harvard and Yale\n",
    "# Harvard boundary: test_score as function of ap for a 50% chance of admission\n",
    "test_score_harvard_boundary = -(beta_0 + beta_1 + (beta_3 + beta_5) * ap_values) / (beta_2 + beta_4)\n",
    "\n",
    "# Yale boundary: test_score as function of ap for a 50% chance of admission\n",
    "test_score_yale_boundary = -(beta_0 + beta_3 * ap_values) / beta_2\n",
    "\n",
    "plt.figure(figsize=(14, 6))\n",
    "\n",
    "# Harvard applicants plot\n",
    "plt.subplot(1, 2, 1)\n",
    "plt.scatter(harvard_train[\"ap\"], harvard_train[\"test_score\"], c=harvard_train[\"admitted\"], label='Train', marker='o', cmap='coolwarm', alpha=0.7)\n",
    "plt.scatter(harvard_test[\"ap\"], harvard_test[\"test_score\"], c=harvard_test[\"admitted\"], label='Test', marker='x', cmap='coolwarm', alpha=0.7)\n",
    "plt.plot(ap_values, test_score_harvard_boundary, 'k--', label=\"Classification Boundary\")\n",
    "plt.title(\"Harvard Applicants\")\n",
    "plt.xlabel(\"AP Tests Taken (ap)\")\n",
    "plt.ylabel(\"Test Score (test_score)\")\n",
    "plt.legend()\n",
    "plt.grid(True)\n",
    "\n",
    "# Yale applicants plot\n",
    "plt.subplot(1, 2, 2)\n",
    "plt.scatter(yale_train[\"ap\"], yale_train[\"test_score\"], c=yale_train[\"admitted\"], label='Train', marker='o', cmap='coolwarm', alpha=0.7)\n",
    "plt.scatter(yale_test[\"ap\"], yale_test[\"test_score\"], c=yale_test[\"admitted\"], label='Test', marker='x', cmap='coolwarm', alpha=0.7)\n",
    "plt.plot(ap_values, test_score_yale_boundary, 'k--', label=\"Classification Boundary\")\n",
    "plt.title(\"Yale Applicants\")\n",
    "plt.xlabel(\"AP Tests Taken (ap)\")\n",
    "plt.ylabel(\"Test Score (test_score)\")\n",
    "plt.legend()\n",
    "plt.grid(True)\n",
    "\n",
    "plt.tight_layout()\n",
    "plt.show()"
   ]
  },
  {
   "cell_type": "markdown",
   "metadata": {
    "cell_id": "0a790850-87c6-4f46-b89e-048a2295c92b",
    "colab_type": "text",
    "deletable": false,
    "editable": false,
    "id": "IGFtXJmQap2q"
   },
   "source": [
    "<!-- END QUESTION -->\n",
    "\n",
    "<div class='exercise-r'>\n",
    "\n",
    "**Q3.6** Fit a logistic regression model (call it `logit3_6`) to predict `admitted` from 4 predictors: `[\"harvard\", \"test_score\", \"female\", \"minority\"]` along with 2 interaction terms: `harvard` with `female` and `harvard` with `minority`. \n",
    "\n",
    " - Store the train and mean cv accuracies in `acc_train_logit3_6` and `acc_cv_logit3_6`.\n",
    " - Display the accuracy scores.\n",
    "</div>"
   ]
  },
  {
   "cell_type": "code",
   "execution_count": 36,
   "metadata": {
    "deletable": false,
    "editable": false
   },
   "outputs": [],
   "source": [
    "# Provided code in Q3.7 will assume this order of predictors\n",
    "logit3_6_predictors = [\"harvard\",\n",
    "                       \"test_score\",\n",
    "                       \"female\",\n",
    "                       \"minority\",\n",
    "                       \"harvard_female\",\n",
    "                       \"harvard_minority\"\n",
    "                      ]"
   ]
  },
  {
   "cell_type": "code",
   "execution_count": 37,
   "metadata": {
    "tags": []
   },
   "outputs": [],
   "source": [
    "# Create interaction terms for 'harvard' with 'female' and 'harvard' with 'minority'\n",
    "college_train[\"harvard_female\"] = college_train[\"harvard\"] * college_train[\"female\"]\n",
    "college_train[\"harvard_minority\"] = college_train[\"harvard\"] * college_train[\"minority\"]\n",
    "\n",
    "logit3_6_predictors = [\"harvard\",\n",
    "                       \"test_score\",\n",
    "                       \"female\",\n",
    "                       \"minority\",\n",
    "                       \"harvard_female\",\n",
    "                       \"harvard_minority\"\n",
    "                      ]\n",
    "\n",
    "\n",
    "X_train_3_6 = college_train[logit3_6_predictors]\n",
    "y_train_3_6 = college_train['admitted']\n",
    "\n",
    "\n",
    "logit3_6 = LogisticRegression(random_state=109, penalty= None, solver='lbfgs', max_iter=1000)\n",
    "logit3_6.fit(X_train_3_6, y_train_3_6)\n",
    "\n",
    "acc_train_logit3_6 = acc_train_logit3_6 = logit3_6.score(X_train_3_6, y_train_3_6)\n",
    "acc_cv_logit3_6 = cross_val_score(logit3_6, X_train_3_6, y_train_3_6, cv=10, scoring='accuracy').mean()\n"
   ]
  },
  {
   "cell_type": "code",
   "execution_count": 38,
   "metadata": {
    "deletable": false,
    "editable": false
   },
   "outputs": [
    {
     "name": "stdout",
     "output_type": "stream",
     "text": [
      "\n",
      "The classification accuracies for 'logit3_6' are:\n",
      "\n",
      "\tTrain\t0.7353\n",
      "\tCV\t0.7279\n"
     ]
    }
   ],
   "source": [
    "print(\n",
    "    \"\\nThe classification accuracies for 'logit3_6' are:\"\n",
    "    \"\\n\\n\\tTrain\\t{:.4f}\\n\\tCV\\t{:.4f}\"\n",
    "    .format(acc_train_logit3_6, acc_cv_logit3_6)\n",
    ")"
   ]
  },
  {
   "cell_type": "code",
   "execution_count": 39,
   "metadata": {
    "deletable": false,
    "editable": false
   },
   "outputs": [
    {
     "data": {
      "text/html": [
       "<p><strong><pre style='display: inline;'>q3.6</pre></strong> passed! 🌟</p>"
      ],
      "text/plain": [
       "q3.6 results: All test cases passed!"
      ]
     },
     "execution_count": 39,
     "metadata": {},
     "output_type": "execute_result"
    }
   ],
   "source": [
    "grader.check(\"q3.6\")"
   ]
  },
  {
   "cell_type": "markdown",
   "metadata": {
    "cell_id": "0a790850-87c6-4f46-b89e-048a2295c92b",
    "colab_type": "text",
    "deletable": false,
    "editable": false,
    "id": "IGFtXJmQap2q"
   },
   "source": [
    "<!-- BEGIN QUESTION -->\n",
    "\n",
    "<div class='exercise-r'>\n",
    "\n",
    "**Q3.7** Interpret the coefficients associated with `female` and `minority` (the two main effects AND the two interaction terms).\n",
    "    \n",
    "</div>"
   ]
  },
  {
   "cell_type": "code",
   "execution_count": 40,
   "metadata": {
    "deletable": false,
    "editable": false
   },
   "outputs": [
    {
     "name": "stdout",
     "output_type": "stream",
     "text": [
      "The intercept and coefficients for the 'logit3_6' model are:\n",
      "\n",
      "\tintercept           -12.0594\n",
      "\tharvard             0.2770\n",
      "\ttest_score          0.0049\n",
      "\tfemale              -0.1550\n",
      "\tminority            1.0954\n",
      "\tharvard_female      0.2359\n",
      "\tharvard_minority    -0.6199\n"
     ]
    }
   ],
   "source": [
    "# Display results\n",
    "logit3_6_intercept = np.array(logit3_6.intercept_).flatten()[0]\n",
    "logit3_6_coefs = logit3_6.coef_.flatten()\n",
    "\n",
    "print(\n",
    "    \"The intercept and coefficients for the 'logit3_6' model are:\"\n",
    "    \"\\n\\n\\t{:<20}{:.4f}\".format(\n",
    "        \"intercept\", logit3_6_intercept\n",
    "    )\n",
    ")\n",
    "\n",
    "for predictor, coef in zip(logit3_6_predictors, logit3_6_coefs):\n",
    "    print(\"\\t{:<20}{:.4f}\".format(predictor, coef))"
   ]
  },
  {
   "cell_type": "markdown",
   "metadata": {},
   "source": [
    "<div class=\"highlight-box\" style=\"border: 1px solid #ffcccb; background-color: #ffcccb; height: 5px;\"></div>"
   ]
  },
  {
   "cell_type": "markdown",
   "metadata": {},
   "source": [
    "- ** Female (-0.1550): Being female slightly reduces the odds of admission overall, suggesting a minor disadvantage for female applicants.\n",
    "\n",
    "- ** Minority (1.0954): Minority status significantly boosts the odds of admission, indicating a strong positive effect.\n",
    "\n",
    "- ** Harvard * Female (0.2359): For Harvard applicants, being female slightly increases the odds of admission, providing a small advantage over Yale.\n",
    "\n",
    "- ** Harvard * Minority (-0.6199): At Harvard, minority status reduces the admission advantage, contrasting with the positive effect seen at Yale.\n",
    "\n",
    "In summary, female and minority status affect admission differently at Harvard and Yale, reflecting varied weighting in each institution's admissions."
   ]
  },
  {
   "cell_type": "markdown",
   "metadata": {},
   "source": [
    "<div class=\"highlight-box\" style=\"border: 1px solid #ffcccb; background-color: #ffcccb; height: 5px;\"></div>"
   ]
  },
  {
   "cell_type": "markdown",
   "metadata": {
    "cell_id": "0a790850-87c6-4f46-b89e-048a2295c92b",
    "colab_type": "text",
    "deletable": false,
    "editable": false,
    "id": "IGFtXJmQap2q"
   },
   "source": [
    "<!-- END QUESTION -->\n",
    "\n",
    "<!-- BEGIN QUESTION -->\n",
    "\n",
    "<div class='exercise-r'>\n",
    "\n",
    "**Q3.8** Based on this model, how does it appear that Harvard and Yale compare in admitting women and minorities?  Given what we've seen in our previous analysis, what might be some reasons we have to doubt the interpretation of the model's coefficients as reflecting the truth?\n",
    "\n",
    "</div>"
   ]
  },
  {
   "cell_type": "markdown",
   "metadata": {},
   "source": [
    "<div class=\"highlight-box\" style=\"border: 1px solid #ffcccb; background-color: #ffcccb; height: 5px;\"></div>"
   ]
  },
  {
   "cell_type": "markdown",
   "metadata": {},
   "source": [
    "Harvard appears slightly more supportive of female applicants, while Yale is more favourable to minority applicants. However, these coefficients may not reflect reality fully. The model lacks key contextual factors, such as specific applicant achievements or recommendation quality, which admissions teams likely consider. Additionally, any bias in the dataset (like over-representation of certain demographics or self-reported information) could skew the results, making the model's interpretation less reliable."
   ]
  },
  {
   "cell_type": "markdown",
   "metadata": {},
   "source": [
    "<div class=\"highlight-box\" style=\"border: 1px solid #ffcccb; background-color: #ffcccb; height: 5px;\"></div>"
   ]
  },
  {
   "cell_type": "markdown",
   "metadata": {
    "deletable": false,
    "editable": false
   },
   "source": [
    "<!-- END QUESTION -->\n",
    "\n",
    "---"
   ]
  },
  {
   "cell_type": "markdown",
   "metadata": {},
   "source": [
    "<a id=\"part4\"></a>\n",
    "\n",
    "## <div class='exercise'>Question 4: Building predictive models for admitted</div>\n",
    "\n",
    "[Return to contents](#contents)"
   ]
  },
  {
   "cell_type": "markdown",
   "metadata": {
    "cell_id": "0a790850-87c6-4f46-b89e-048a2295c92b",
    "colab_type": "text",
    "deletable": false,
    "editable": false,
    "id": "IGFtXJmQap2q"
   },
   "source": [
    "<div class='exercise-r'>\n",
    "\n",
    "**Q4.1** You were instructed to NOT scale predictors in the prior sections above. The primary reason for this was to focus instead on the interpretability of our logistic regression coefficients. However, as we're sure you noticed, the numeric scale among our different predictors varies greatly (i.e. `test_score` values are in the 1,000's while others are much, much smaller). In practice, we might want to put our predictors all on a similar scale, particularly for regularized regression and/or distance-based algorithms such as $k$-NN classification. \n",
    "\n",
    "1. Explain why scaling under these circumstances might be important.\n",
    "2. Define a list of all non-binary predictors from the original set of 12 predictors, calling it `non_binary_predictors`.\n",
    "3. Apply standardized scaling to all of these **non-binary** predictors. **For the sake of consistency, fit your scaler on just the training data. Then use it to transform both train and test.**\n",
    "\n",
    "**IMPORTANT:** These scaled predictors should be used instead of the original unscaled versions of the predictors for the remainder of this problem set. Tests from this point on assume that `X_train` and `X_test` have been standardized with the approach outlined above. \n",
    "\n",
    "</div>"
   ]
  },
  {
   "cell_type": "markdown",
   "metadata": {},
   "source": [
    "1. Explain why scaling under these circumstances might be important.\n",
    "Scaling is important in these cases because:\n",
    "\n",
    "For regularised regression: When predictors are on very different scales, the regularisation penalty will affect them unequally. Scaling will make sure all features are equally penalised.\n",
    "\n",
    "For k-NN: k-NN algorithm uses distance calculations, if features with larger scales will dominate the distance calculations. \n"
   ]
  },
  {
   "cell_type": "code",
   "execution_count": 72,
   "metadata": {
    "tags": []
   },
   "outputs": [],
   "source": [
    "# Identify a nonbinary\n",
    "non_binary_predictors = ['test_score', 'ap', 'avg_ap', 'sat_subjects', 'gpa']\n",
    "\n",
    "# apply standard scaler to non-binary predictors\n",
    "scaler = StandardScaler()\n",
    "X_train[non_binary_predictors] = scaler.fit_transform(X_train[non_binary_predictors])\n",
    "X_test[non_binary_predictors] = scaler.transform(X_test[non_binary_predictors])\n"
   ]
  },
  {
   "cell_type": "code",
   "execution_count": 73,
   "metadata": {
    "deletable": false,
    "editable": false
   },
   "outputs": [
    {
     "data": {
      "text/html": [
       "<div>\n",
       "<style scoped>\n",
       "    .dataframe tbody tr th:only-of-type {\n",
       "        vertical-align: middle;\n",
       "    }\n",
       "\n",
       "    .dataframe tbody tr th {\n",
       "        vertical-align: top;\n",
       "    }\n",
       "\n",
       "    .dataframe thead th {\n",
       "        text-align: right;\n",
       "    }\n",
       "</style>\n",
       "<table border=\"1\" class=\"dataframe\">\n",
       "  <thead>\n",
       "    <tr style=\"text-align: right;\">\n",
       "      <th></th>\n",
       "      <th>test_score</th>\n",
       "      <th>ap</th>\n",
       "      <th>avg_ap</th>\n",
       "      <th>sat_subjects</th>\n",
       "      <th>gpa</th>\n",
       "      <th>female</th>\n",
       "      <th>minority</th>\n",
       "      <th>international</th>\n",
       "      <th>sports</th>\n",
       "      <th>harvard</th>\n",
       "      <th>early_app</th>\n",
       "      <th>alumni</th>\n",
       "    </tr>\n",
       "  </thead>\n",
       "  <tbody>\n",
       "    <tr>\n",
       "      <th>count</th>\n",
       "      <td>1.496e+03</td>\n",
       "      <td>1.496e+03</td>\n",
       "      <td>1.496e+03</td>\n",
       "      <td>1.496e+03</td>\n",
       "      <td>1.496e+03</td>\n",
       "      <td>1496.000</td>\n",
       "      <td>1496.000</td>\n",
       "      <td>1496.000</td>\n",
       "      <td>1496.000</td>\n",
       "      <td>1496.000</td>\n",
       "      <td>1496.000</td>\n",
       "      <td>1496.000</td>\n",
       "    </tr>\n",
       "    <tr>\n",
       "      <th>mean</th>\n",
       "      <td>1.187e-17</td>\n",
       "      <td>-4.750e-18</td>\n",
       "      <td>5.937e-17</td>\n",
       "      <td>-5.937e-18</td>\n",
       "      <td>2.850e-17</td>\n",
       "      <td>0.511</td>\n",
       "      <td>0.215</td>\n",
       "      <td>0.061</td>\n",
       "      <td>0.035</td>\n",
       "      <td>0.519</td>\n",
       "      <td>0.172</td>\n",
       "      <td>0.046</td>\n",
       "    </tr>\n",
       "    <tr>\n",
       "      <th>std</th>\n",
       "      <td>1.000e+00</td>\n",
       "      <td>1.000e+00</td>\n",
       "      <td>1.000e+00</td>\n",
       "      <td>1.000e+00</td>\n",
       "      <td>1.000e+00</td>\n",
       "      <td>0.500</td>\n",
       "      <td>0.411</td>\n",
       "      <td>0.239</td>\n",
       "      <td>0.185</td>\n",
       "      <td>0.500</td>\n",
       "      <td>0.378</td>\n",
       "      <td>0.210</td>\n",
       "    </tr>\n",
       "    <tr>\n",
       "      <th>min</th>\n",
       "      <td>-6.125e+00</td>\n",
       "      <td>-1.470e+00</td>\n",
       "      <td>-2.159e+00</td>\n",
       "      <td>-2.262e+00</td>\n",
       "      <td>-9.703e+00</td>\n",
       "      <td>0.000</td>\n",
       "      <td>0.000</td>\n",
       "      <td>0.000</td>\n",
       "      <td>0.000</td>\n",
       "      <td>0.000</td>\n",
       "      <td>0.000</td>\n",
       "      <td>0.000</td>\n",
       "    </tr>\n",
       "    <tr>\n",
       "      <th>25%</th>\n",
       "      <td>-4.540e-01</td>\n",
       "      <td>-6.091e-01</td>\n",
       "      <td>-1.203e-01</td>\n",
       "      <td>-6.917e-01</td>\n",
       "      <td>-2.008e-01</td>\n",
       "      <td>0.000</td>\n",
       "      <td>0.000</td>\n",
       "      <td>0.000</td>\n",
       "      <td>0.000</td>\n",
       "      <td>0.000</td>\n",
       "      <td>0.000</td>\n",
       "      <td>0.000</td>\n",
       "    </tr>\n",
       "    <tr>\n",
       "      <th>50%</th>\n",
       "      <td>1.958e-01</td>\n",
       "      <td>-1.787e-01</td>\n",
       "      <td>4.205e-01</td>\n",
       "      <td>9.342e-02</td>\n",
       "      <td>3.612e-01</td>\n",
       "      <td>1.000</td>\n",
       "      <td>0.000</td>\n",
       "      <td>0.000</td>\n",
       "      <td>0.000</td>\n",
       "      <td>1.000</td>\n",
       "      <td>0.000</td>\n",
       "      <td>0.000</td>\n",
       "    </tr>\n",
       "    <tr>\n",
       "      <th>75%</th>\n",
       "      <td>7.275e-01</td>\n",
       "      <td>6.822e-01</td>\n",
       "      <td>6.909e-01</td>\n",
       "      <td>9.342e-02</td>\n",
       "      <td>6.167e-01</td>\n",
       "      <td>1.000</td>\n",
       "      <td>0.000</td>\n",
       "      <td>0.000</td>\n",
       "      <td>0.000</td>\n",
       "      <td>1.000</td>\n",
       "      <td>0.000</td>\n",
       "      <td>0.000</td>\n",
       "    </tr>\n",
       "    <tr>\n",
       "      <th>max</th>\n",
       "      <td>1.259e+00</td>\n",
       "      <td>1.543e+00</td>\n",
       "      <td>7.533e-01</td>\n",
       "      <td>2.449e+00</td>\n",
       "      <td>6.167e-01</td>\n",
       "      <td>1.000</td>\n",
       "      <td>1.000</td>\n",
       "      <td>1.000</td>\n",
       "      <td>1.000</td>\n",
       "      <td>1.000</td>\n",
       "      <td>1.000</td>\n",
       "      <td>1.000</td>\n",
       "    </tr>\n",
       "  </tbody>\n",
       "</table>\n",
       "</div>"
      ],
      "text/plain": [
       "       test_score         ap     avg_ap  sat_subjects        gpa    female  \\\n",
       "count   1.496e+03  1.496e+03  1.496e+03     1.496e+03  1.496e+03  1496.000   \n",
       "mean    1.187e-17 -4.750e-18  5.937e-17    -5.937e-18  2.850e-17     0.511   \n",
       "std     1.000e+00  1.000e+00  1.000e+00     1.000e+00  1.000e+00     0.500   \n",
       "min    -6.125e+00 -1.470e+00 -2.159e+00    -2.262e+00 -9.703e+00     0.000   \n",
       "25%    -4.540e-01 -6.091e-01 -1.203e-01    -6.917e-01 -2.008e-01     0.000   \n",
       "50%     1.958e-01 -1.787e-01  4.205e-01     9.342e-02  3.612e-01     1.000   \n",
       "75%     7.275e-01  6.822e-01  6.909e-01     9.342e-02  6.167e-01     1.000   \n",
       "max     1.259e+00  1.543e+00  7.533e-01     2.449e+00  6.167e-01     1.000   \n",
       "\n",
       "       minority  international    sports   harvard  early_app    alumni  \n",
       "count  1496.000       1496.000  1496.000  1496.000   1496.000  1496.000  \n",
       "mean      0.215          0.061     0.035     0.519      0.172     0.046  \n",
       "std       0.411          0.239     0.185     0.500      0.378     0.210  \n",
       "min       0.000          0.000     0.000     0.000      0.000     0.000  \n",
       "25%       0.000          0.000     0.000     0.000      0.000     0.000  \n",
       "50%       0.000          0.000     0.000     1.000      0.000     0.000  \n",
       "75%       0.000          0.000     0.000     1.000      0.000     0.000  \n",
       "max       1.000          1.000     1.000     1.000      1.000     1.000  "
      ]
     },
     "execution_count": 73,
     "metadata": {},
     "output_type": "execute_result"
    }
   ],
   "source": [
    "# preview summary stats after standardizing\n",
    "X_train.describe()"
   ]
  },
  {
   "cell_type": "code",
   "execution_count": 74,
   "metadata": {
    "deletable": false,
    "editable": false
   },
   "outputs": [
    {
     "data": {
      "text/html": [
       "<p><strong><pre style='display: inline;'>q4.1</pre></strong> passed! 🌟</p>"
      ],
      "text/plain": [
       "q4.1 results: All test cases passed!"
      ]
     },
     "execution_count": 74,
     "metadata": {},
     "output_type": "execute_result"
    }
   ],
   "source": [
    "grader.check(\"q4.1\")"
   ]
  },
  {
   "cell_type": "markdown",
   "metadata": {
    "cell_id": "0a790850-87c6-4f46-b89e-048a2295c92b",
    "colab_type": "text",
    "deletable": false,
    "editable": false,
    "id": "IGFtXJmQap2q"
   },
   "source": [
    "<!-- BEGIN QUESTION -->\n",
    "\n",
    "<div class='exercise-r'>\n",
    "\n",
    "**Q4.2** Fit a well-tuned $k$-NN classification model with main effects of all 12 predictors in it (call it `knn_model`).  Use `ks = range(1, 50, 2)` and 10-fold cross-validation with classification accuracy as the scoring metric. Plot, on a single set of axes, your resulting cross-validation mean training and mean validation scores at each value $k$. Then, store your chosen $k$ in `best_k`, the accuracy on the best model when refit on all the training data in `knn_train_acc`, and the mean 10-fold CV accuracy of the best model in `knn_cv_acc`.\n",
    "    \n",
    "</div>"
   ]
  },
  {
   "cell_type": "code",
   "execution_count": 77,
   "metadata": {
    "tags": []
   },
   "outputs": [],
   "source": [
    "ks = range(1, 50, 2)\n",
    "train_score = []\n",
    "val_score = []\n",
    "kfold=10\n",
    "x_predictors = [\"test_score\", \"ap\", \"avg_ap\", \"sat_subjects\", \"gpa\", \"female\", \n",
    "              \"minority\", \"international\", \"sports\", \"early_app\", \"alumni\", \"harvard\"]\n",
    "\n",
    "#using x_predictors from the beginning to get 12 predictors\n",
    "\n",
    "for k in ks:\n",
    "    knn_model = KNeighborsClassifier(n_neighbors=k)\n",
    "    cv_score = cross_validate(knn_model, X_train[x_predictors], y_train, cv=kfold, scoring='accuracy', return_train_score=True)\n",
    "    train_score.append(np.mean(cv_score['train_score']))\n",
    "    val_score.append(np.mean(cv_score['test_score']))\n",
    "    \n",
    "#Get the best k with highest val score and fit KNN using best_k\n",
    "best_k = ks[np.argmax(val_score)]\n",
    "\n",
    "best_knn = KNeighborsClassifier(n_neighbors=best_k)\n",
    "best_knn.fit(X_train[x_predictors], y_train)\n",
    "\n",
    "knn_train_acc = best_knn.score(X_train[x_predictors], y_train)\n",
    "knn_cv_acc =  np.mean(cross_validate(best_knn, X_train[x_predictors], y_train, cv=kfold, scoring='accuracy')['test_score'])  "
   ]
  },
  {
   "cell_type": "code",
   "execution_count": 78,
   "metadata": {
    "tags": []
   },
   "outputs": [
    {
     "data": {
      "image/png": "[encoded data removed]",
      "text/plain": [
       "<Figure size 1000x600 with 1 Axes>"
      ]
     },
     "metadata": {},
     "output_type": "display_data"
    }
   ],
   "source": [
    "# Plot cross-validation results\n",
    "\n",
    "plt.figure(figsize=(10, 6))\n",
    "plt.plot(ks, train_score, label='train',linestyle='-', marker='o')\n",
    "plt.plot(ks, val_score, label='validation' ,linestyle='--', marker='x')\n",
    "plt.axvline(best_k, color='magenta', alpha=0.5, linestyle='--', label= 'Best k value for accuracy = {}'.format(best_k))\n",
    "\n",
    "plt.xlabel(r'$k$')\n",
    "plt.ylabel('Accuracy')\n",
    "plt.title('kNN Accuracy as a function of $k$')\n",
    "plt.legend();\n"
   ]
  },
  {
   "cell_type": "code",
   "execution_count": 46,
   "metadata": {
    "deletable": false,
    "editable": false
   },
   "outputs": [
    {
     "name": "stdout",
     "output_type": "stream",
     "text": [
      "The classification accuracies for 'knn_model' where k=39 are:\n",
      "\n",
      "\tTrain\t0.7386\n",
      "\tCV\t0.7366\n"
     ]
    }
   ],
   "source": [
    "print(\n",
    "    \"The classification accuracies for 'knn_model' where k={} \"\n",
    "    \"are:\\n\\n\\tTrain\\t{:.4f}\\n\\tCV\\t{:.4f}\"\n",
    "    .format(\n",
    "        best_k, knn_train_acc, knn_cv_acc\n",
    "    )\n",
    ")\n",
    "# create dict for storing test scores for each Q4 model\n",
    "q4_cv_scores = {\"knn_model\": knn_cv_acc}"
   ]
  },
  {
   "cell_type": "markdown",
   "metadata": {
    "cell_id": "0a790850-87c6-4f46-b89e-048a2295c92b",
    "colab_type": "text",
    "deletable": false,
    "editable": false,
    "id": "IGFtXJmQap2q"
   },
   "source": [
    "<!-- END QUESTION -->\n",
    "\n",
    "<div class='exercise-r'>\n",
    "\n",
    "**Q4.3** Fit the full logistic regression model (without penalty) with main effects of all 12 predictors in it (call it `logit_full`). Store the train mean cv accuracy in `logit_full_train_acc` and `logit_full_cv_acc`.\n",
    "\n",
    "**HINT:** If you have convergence warnings, increasing the maximum number of iterations will likely solve this issue.\n",
    "    \n",
    "</div>"
   ]
  },
  {
   "cell_type": "code",
   "execution_count": 79,
   "metadata": {
    "deletable": false,
    "editable": false
   },
   "outputs": [],
   "source": [
    "# The code that prints your results assumes\n",
    "# predictors were given to the model in this order\n",
    "predictor_list = [\n",
    "    \"test_score\", \"ap\", \"avg_ap\", \"sat_subjects\",\n",
    "    \"gpa\", \"female\", \"minority\", \"international\",\n",
    "    \"sports\", \"harvard\", \"early_app\", \"alumni\",\n",
    "]"
   ]
  },
  {
   "cell_type": "code",
   "execution_count": 80,
   "metadata": {
    "scrolled": true,
    "tags": []
   },
   "outputs": [],
   "source": [
    "#create x_train_full to train the full logistic reg.\n",
    "\n",
    "\n",
    "x_train_full = X_train[predictor_list]\n",
    "kfold=10\n",
    "\n",
    "logit_full = LogisticRegression(penalty=None, max_iter=900, random_state=109)\n",
    "logit_full = logit_full.fit(x_train_full,y_train)\n",
    "\n",
    "logit_full_train_acc = logit_full.score(x_train_full, y_train)\n",
    "logit_full_cv_acc = cross_val_score(logit_full,x_train_full,y_train,cv=kfold).mean()"
   ]
  },
  {
   "cell_type": "code",
   "execution_count": 81,
   "metadata": {
    "tags": []
   },
   "outputs": [
    {
     "name": "stdout",
     "output_type": "stream",
     "text": [
      "The intercept and coefficients for the 'logit_full' model are:\n",
      "\n",
      "\tintercept           -1.7415\n",
      "\ttest_score          0.8893\n",
      "\tap                  -0.1284\n",
      "\tavg_ap              0.0008\n",
      "\tsat_subjects        -0.0976\n",
      "\tgpa                 0.0697\n",
      "\tfemale              -0.0175\n",
      "\tminority            0.8088\n",
      "\tinternational       0.3067\n",
      "\tsports              1.0388\n",
      "\tharvard             0.3949\n",
      "\tearly_app           0.6029\n",
      "\talumni              0.8664\n",
      "\n",
      "The classification accuracies for 'logit_full' are:\n",
      "\n",
      "\tTrain\t0.7447\n",
      "\tCV\t0.7373\n"
     ]
    }
   ],
   "source": [
    "# display your results\n",
    "print(\n",
    "    \"The intercept and coefficients for the 'logit_full' model are:\"\n",
    "    \"\\n\\n\\t{:<20}{:.4f}\".format(\n",
    "        \"intercept\", np.array(logit_full.intercept_).flatten()[0]\n",
    "    )\n",
    ")\n",
    "\n",
    "for predictor, coef in zip(predictor_list, logit_full.coef_.flatten()):\n",
    "    print(\"\\t{:<20}{:.4f}\".format(predictor, coef))\n",
    "\n",
    "print(\n",
    "    \"\\nThe classification accuracies for 'logit_full' are:\"\n",
    "    \"\\n\\n\\tTrain\\t{:.4f}\\n\\tCV\\t{:.4f}\"\n",
    "    .format(logit_full_train_acc, logit_full_cv_acc)\n",
    ")\n",
    "\n",
    "# store test score to dict for later use\n",
    "q4_cv_scores[\"logit_full\"] = logit_full_cv_acc"
   ]
  },
  {
   "cell_type": "code",
   "execution_count": 82,
   "metadata": {
    "deletable": false,
    "editable": false
   },
   "outputs": [
    {
     "data": {
      "text/html": [
       "<p><strong><pre style='display: inline;'>q4.3</pre></strong> passed! 🌟</p>"
      ],
      "text/plain": [
       "q4.3 results: All test cases passed!"
      ]
     },
     "execution_count": 82,
     "metadata": {},
     "output_type": "execute_result"
    }
   ],
   "source": [
    "grader.check(\"q4.3\")"
   ]
  },
  {
   "cell_type": "markdown",
   "metadata": {
    "cell_id": "0a790850-87c6-4f46-b89e-048a2295c92b",
    "colab_type": "text",
    "deletable": false,
    "editable": false,
    "id": "IGFtXJmQap2q"
   },
   "source": [
    "<div class='exercise-r'>\n",
    "\n",
    "**Q4.4** Fit a well-tuned Lasso-like logistic regression model from all 12 predictors in it (call it `logit_lasso`). Use `Cs = np.logspace(-2, 2, 50)` and 10-fold cross-validation. Store the train and mean cross-validation accuracies in `logit_lasso_train_acc` and `logit_lasso_cv_acc`. For tuning a regularized logistic regression model, you should use `LogisticRegressionCV`. But again, to insure reproducability here, you should set `random_state=109`. \n",
    "\n",
    "**Hint:**\n",
    "- The default solver for SKLearn's logistic regression, 'lbfgs', is not compatible with LASSO regularization, so you will need to use a different solver here. See the [documentation](https://scikit-learn.org/stable/modules/generated/sklearn.linear_model.LogisticRegressionCV.html) for guidance.\n",
    "\n",
    "</div>"
   ]
  },
  {
   "cell_type": "code",
   "execution_count": 83,
   "metadata": {
    "tags": []
   },
   "outputs": [],
   "source": [
    "# use x_train_full from previous step to train Lasso like Logistic reg.\n",
    "#from sklearn doc, Specify penalty = 'l1' for Lasso and solver determine the algorithm\n",
    "#In this case,I choose solver = liblinear as it is possible to support 'l1' and 'l2' \n",
    "\n",
    "\n",
    "Cs = np.logspace(-2, 2, 50)\n",
    "kfold=10\n",
    "\n",
    "logit_lasso = LogisticRegressionCV(\n",
    "        Cs=Cs,\n",
    "        penalty = 'l1',\n",
    "        cv=kfold,\n",
    "        scoring = 'accuracy',\n",
    "        random_state = 109,\n",
    "        solver = 'liblinear',\n",
    "        n_jobs = -1)\n",
    "\n",
    "#fit model\n",
    "logit_lasso.fit(x_train_full, y_train)\n",
    "\n",
    "# Get the best C value and CV accuracy\n",
    "best_C = logit_lasso.C_[0]  # [0] for binary classification\n",
    "logit_lasso_cv_acc = logit_lasso.scores_[1].mean(axis=0).max()\n",
    "logit_lasso_train_acc = logit_lasso.score(x_train_full, y_train)"
   ]
  },
  {
   "cell_type": "code",
   "execution_count": 85,
   "metadata": {
    "tags": []
   },
   "outputs": [
    {
     "name": "stdout",
     "output_type": "stream",
     "text": [
      "The intercept and coefficients for the 'logit_lasso' model are:\n",
      "\n",
      "\tintercept           -1.5207\n",
      "\ttest_score          0.8187\n",
      "\tap                  -0.0967\n",
      "\tavg_ap              -0.0240\n",
      "\tsat_subjects        -0.0689\n",
      "\tgpa                 0.0283\n",
      "\tfemale              -0.0029\n",
      "\tminority            0.6527\n",
      "\tinternational       0.0000\n",
      "\tsports              0.5988\n",
      "\tharvard             0.2628\n",
      "\tearly_app           0.4534\n",
      "\talumni              0.6012\n",
      "\n",
      "The classification accuracies for 'logit_lasso' are:\n",
      "\n",
      "\tTrain\t0.7420\n",
      "\tCV\t0.7380\n"
     ]
    }
   ],
   "source": [
    "# Display your results\n",
    "print(\n",
    "    \"The intercept and coefficients for the 'logit_lasso' model are:\"\n",
    "    \"\\n\\n\\t{:<20}{:.4f}\".format(\n",
    "        \"intercept\", np.array(logit_lasso.intercept_).flatten()[0]\n",
    "    )\n",
    ")\n",
    "\n",
    "# Again, this code assumes predictors were given to the model\n",
    "# in the order defined in `predictor_list`\n",
    "for predictor, coef in zip(predictor_list, logit_lasso.coef_.flatten()):\n",
    "    print(\"\\t{:<20}{:.4f}\".format(predictor, coef))\n",
    "\n",
    "print(\n",
    "    \"\\nThe classification accuracies for 'logit_lasso' are:\"\n",
    "    \"\\n\\n\\tTrain\\t{:.4f}\\n\\tCV\\t{:.4f}\"\n",
    "    .format(logit_lasso_train_acc, logit_lasso_cv_acc)\n",
    ")\n",
    "\n",
    "# store cv score to dict for later use\n",
    "q4_cv_scores[\"logit_lasso\"] = logit_lasso_cv_acc"
   ]
  },
  {
   "cell_type": "code",
   "execution_count": 86,
   "metadata": {
    "deletable": false,
    "editable": false
   },
   "outputs": [
    {
     "data": {
      "text/html": [
       "<p><strong><pre style='display: inline;'>q4.4</pre></strong> passed! 🌈</p>"
      ],
      "text/plain": [
       "q4.4 results: All test cases passed!"
      ]
     },
     "execution_count": 86,
     "metadata": {},
     "output_type": "execute_result"
    }
   ],
   "source": [
    "grader.check(\"q4.4\")"
   ]
  },
  {
   "cell_type": "markdown",
   "metadata": {
    "cell_id": "0a790850-87c6-4f46-b89e-048a2295c92b",
    "colab_type": "text",
    "deletable": false,
    "editable": false,
    "id": "IGFtXJmQap2q"
   },
   "source": [
    "<div class='exercise-r'>\n",
    "\n",
    "**4.5** Which predictors were deemed important in `logit_lasso`?  Which were deemed unimportant? Here we assume that any predictors with zero-valued Lasso coefficients \"unimportant\". Store your results in `predictors_important` and `predictors_not_important`.\n",
    " \n",
    "</div>"
   ]
  },
  {
   "cell_type": "code",
   "execution_count": 87,
   "metadata": {
    "tags": []
   },
   "outputs": [
    {
     "name": "stdout",
     "output_type": "stream",
     "text": [
      "[ 0.81867251 -0.09674788 -0.02401619 -0.0688711   0.02828791 -0.00290954\n",
      "  0.65265595  0.          0.59884629  0.26276965  0.45341227  0.601204  ]\n",
      "11\n",
      "1\n"
     ]
    }
   ],
   "source": [
    "#Any coef which is not equal to zero is important. From Q4.4 output, all of the coef are not equal to zero. So all of them are important!\n",
    "predictors_important=[]\n",
    "predictors_not_important = []\n",
    "\n",
    "logit_lasso_coef = logit_lasso.coef_.flatten()\n",
    "print(logit_lasso_coef)\n",
    "\n",
    "for i in range(len(predictor_list)):\n",
    "    if logit_lasso_coef[i] != 0:\n",
    "        predictors_important.append(predictor_list[i])\n",
    "    else:\n",
    "        predictors_not_important.append(predictor_list[i])\n",
    "\n",
    "print(len(predictors_important))\n",
    "print(len(predictors_not_important))"
   ]
  },
  {
   "cell_type": "code",
   "execution_count": 88,
   "metadata": {
    "tags": []
   },
   "outputs": [
    {
     "name": "stdout",
     "output_type": "stream",
     "text": [
      "The following predictors were deemed important by 'logit_lasso' (i.e. coef != 0):\n",
      "\n",
      "\t['test_score', 'ap', 'avg_ap', 'sat_subjects', 'gpa', 'female', 'minority', 'sports', 'harvard', 'early_app', 'alumni']\n",
      "\n",
      "\n",
      "While, the remaining were deemed unimportant (i.e. coef == 0):\n",
      "\n",
      "\t['international']\n"
     ]
    }
   ],
   "source": [
    "# display results\n",
    "print(\n",
    "    \"The following predictors were deemed important by \"\n",
    "    \"'logit_lasso' (i.e. coef != 0):\\n\\n\\t{}\\n\\n\\n\"\n",
    "    \"While, the remaining were deemed unimportant (i.e. \"\n",
    "    \"coef == 0):\\n\\n\\t{}\"\n",
    "    .format(\n",
    "        predictors_important,\n",
    "        predictors_not_important,\n",
    "    )\n",
    ")"
   ]
  },
  {
   "cell_type": "code",
   "execution_count": 89,
   "metadata": {
    "deletable": false,
    "editable": false
   },
   "outputs": [
    {
     "data": {
      "text/html": [
       "<p><strong><pre style='display: inline;'>q4.5</pre></strong> passed! 🍀</p>"
      ],
      "text/plain": [
       "q4.5 results: All test cases passed!"
      ]
     },
     "execution_count": 89,
     "metadata": {},
     "output_type": "execute_result"
    }
   ],
   "source": [
    "grader.check(\"q4.5\")"
   ]
  },
  {
   "cell_type": "markdown",
   "metadata": {
    "cell_id": "0a790850-87c6-4f46-b89e-048a2295c92b",
    "colab_type": "text",
    "deletable": false,
    "editable": false,
    "id": "IGFtXJmQap2q"
   },
   "source": [
    "<div class='exercise-r'>\n",
    "\n",
    "**Q4.6** Fit a well-tuned Lasso-like logistic regression model with all important predictors from `logit_lasso` and all the unique 2-way interactions between them (call it `lasso_interact`).  Again use `Cs = np.logspace(-2, 2, 50)`,  and 10-fold cross-validation with classification accuracy as the scoring metric. Record the accuracy on train and test for this model in `lasso_interact_train_acc` and `lasso_interact_test_acc`.\n",
    "\n",
    "</div>"
   ]
  },
  {
   "cell_type": "code",
   "execution_count": 90,
   "metadata": {
    "scrolled": true,
    "tags": []
   },
   "outputs": [
    {
     "data": {
      "text/html": [
       "<div>\n",
       "<style scoped>\n",
       "    .dataframe tbody tr th:only-of-type {\n",
       "        vertical-align: middle;\n",
       "    }\n",
       "\n",
       "    .dataframe tbody tr th {\n",
       "        vertical-align: top;\n",
       "    }\n",
       "\n",
       "    .dataframe thead th {\n",
       "        text-align: right;\n",
       "    }\n",
       "</style>\n",
       "<table border=\"1\" class=\"dataframe\">\n",
       "  <thead>\n",
       "    <tr style=\"text-align: right;\">\n",
       "      <th></th>\n",
       "      <th>test_score</th>\n",
       "      <th>ap</th>\n",
       "      <th>avg_ap</th>\n",
       "      <th>sat_subjects</th>\n",
       "      <th>gpa</th>\n",
       "      <th>female</th>\n",
       "      <th>minority</th>\n",
       "      <th>sports</th>\n",
       "      <th>harvard</th>\n",
       "      <th>early_app</th>\n",
       "      <th>alumni</th>\n",
       "      <th>test_score_ap</th>\n",
       "      <th>test_score_avg_ap</th>\n",
       "      <th>test_score_sat_subjects</th>\n",
       "      <th>test_score_gpa</th>\n",
       "      <th>test_score_female</th>\n",
       "      <th>test_score_minority</th>\n",
       "      <th>test_score_sports</th>\n",
       "      <th>test_score_harvard</th>\n",
       "      <th>test_score_early_app</th>\n",
       "      <th>test_score_alumni</th>\n",
       "      <th>ap_avg_ap</th>\n",
       "      <th>ap_sat_subjects</th>\n",
       "      <th>ap_gpa</th>\n",
       "      <th>ap_female</th>\n",
       "      <th>...</th>\n",
       "      <th>sat_subjects_sports</th>\n",
       "      <th>sat_subjects_harvard</th>\n",
       "      <th>sat_subjects_early_app</th>\n",
       "      <th>sat_subjects_alumni</th>\n",
       "      <th>gpa_female</th>\n",
       "      <th>gpa_minority</th>\n",
       "      <th>gpa_sports</th>\n",
       "      <th>gpa_harvard</th>\n",
       "      <th>gpa_early_app</th>\n",
       "      <th>gpa_alumni</th>\n",
       "      <th>female_minority</th>\n",
       "      <th>female_sports</th>\n",
       "      <th>female_harvard</th>\n",
       "      <th>female_early_app</th>\n",
       "      <th>female_alumni</th>\n",
       "      <th>minority_sports</th>\n",
       "      <th>minority_harvard</th>\n",
       "      <th>minority_early_app</th>\n",
       "      <th>minority_alumni</th>\n",
       "      <th>sports_harvard</th>\n",
       "      <th>sports_early_app</th>\n",
       "      <th>sports_alumni</th>\n",
       "      <th>harvard_early_app</th>\n",
       "      <th>harvard_alumni</th>\n",
       "      <th>early_app_alumni</th>\n",
       "    </tr>\n",
       "  </thead>\n",
       "  <tbody>\n",
       "    <tr>\n",
       "      <th>192</th>\n",
       "      <td>0.727</td>\n",
       "      <td>1.543</td>\n",
       "      <td>0.753</td>\n",
       "      <td>1.664</td>\n",
       "      <td>0.514</td>\n",
       "      <td>0</td>\n",
       "      <td>0</td>\n",
       "      <td>0</td>\n",
       "      <td>1</td>\n",
       "      <td>0</td>\n",
       "      <td>0</td>\n",
       "      <td>1.122</td>\n",
       "      <td>0.548</td>\n",
       "      <td>1.210</td>\n",
       "      <td>0.374</td>\n",
       "      <td>0.000</td>\n",
       "      <td>0.000</td>\n",
       "      <td>0.0</td>\n",
       "      <td>0.727</td>\n",
       "      <td>0.000</td>\n",
       "      <td>0.0</td>\n",
       "      <td>1.162</td>\n",
       "      <td>2.567</td>\n",
       "      <td>0.794</td>\n",
       "      <td>0.000</td>\n",
       "      <td>...</td>\n",
       "      <td>0.0</td>\n",
       "      <td>1.664</td>\n",
       "      <td>0.000</td>\n",
       "      <td>0.0</td>\n",
       "      <td>0.000</td>\n",
       "      <td>0.000</td>\n",
       "      <td>0.0</td>\n",
       "      <td>0.514</td>\n",
       "      <td>0.000</td>\n",
       "      <td>0.0</td>\n",
       "      <td>0</td>\n",
       "      <td>0</td>\n",
       "      <td>0</td>\n",
       "      <td>0</td>\n",
       "      <td>0</td>\n",
       "      <td>0</td>\n",
       "      <td>0</td>\n",
       "      <td>0</td>\n",
       "      <td>0</td>\n",
       "      <td>0</td>\n",
       "      <td>0</td>\n",
       "      <td>0</td>\n",
       "      <td>0</td>\n",
       "      <td>0</td>\n",
       "      <td>0</td>\n",
       "    </tr>\n",
       "    <tr>\n",
       "      <th>652</th>\n",
       "      <td>-1.045</td>\n",
       "      <td>-0.179</td>\n",
       "      <td>0.365</td>\n",
       "      <td>0.093</td>\n",
       "      <td>-0.661</td>\n",
       "      <td>1</td>\n",
       "      <td>1</td>\n",
       "      <td>0</td>\n",
       "      <td>1</td>\n",
       "      <td>0</td>\n",
       "      <td>0</td>\n",
       "      <td>0.187</td>\n",
       "      <td>-0.381</td>\n",
       "      <td>-0.098</td>\n",
       "      <td>0.690</td>\n",
       "      <td>-1.045</td>\n",
       "      <td>-1.045</td>\n",
       "      <td>-0.0</td>\n",
       "      <td>-1.045</td>\n",
       "      <td>-0.000</td>\n",
       "      <td>-0.0</td>\n",
       "      <td>-0.065</td>\n",
       "      <td>-0.017</td>\n",
       "      <td>0.118</td>\n",
       "      <td>-0.179</td>\n",
       "      <td>...</td>\n",
       "      <td>0.0</td>\n",
       "      <td>0.093</td>\n",
       "      <td>0.000</td>\n",
       "      <td>0.0</td>\n",
       "      <td>-0.661</td>\n",
       "      <td>-0.661</td>\n",
       "      <td>-0.0</td>\n",
       "      <td>-0.661</td>\n",
       "      <td>-0.000</td>\n",
       "      <td>-0.0</td>\n",
       "      <td>1</td>\n",
       "      <td>0</td>\n",
       "      <td>1</td>\n",
       "      <td>0</td>\n",
       "      <td>0</td>\n",
       "      <td>0</td>\n",
       "      <td>1</td>\n",
       "      <td>0</td>\n",
       "      <td>0</td>\n",
       "      <td>0</td>\n",
       "      <td>0</td>\n",
       "      <td>0</td>\n",
       "      <td>0</td>\n",
       "      <td>0</td>\n",
       "      <td>0</td>\n",
       "    </tr>\n",
       "    <tr>\n",
       "      <th>593</th>\n",
       "      <td>-0.631</td>\n",
       "      <td>0.682</td>\n",
       "      <td>0.287</td>\n",
       "      <td>-0.692</td>\n",
       "      <td>-0.150</td>\n",
       "      <td>0</td>\n",
       "      <td>0</td>\n",
       "      <td>0</td>\n",
       "      <td>1</td>\n",
       "      <td>0</td>\n",
       "      <td>0</td>\n",
       "      <td>-0.431</td>\n",
       "      <td>-0.181</td>\n",
       "      <td>0.437</td>\n",
       "      <td>0.094</td>\n",
       "      <td>-0.000</td>\n",
       "      <td>-0.000</td>\n",
       "      <td>-0.0</td>\n",
       "      <td>-0.631</td>\n",
       "      <td>-0.000</td>\n",
       "      <td>-0.0</td>\n",
       "      <td>0.196</td>\n",
       "      <td>-0.472</td>\n",
       "      <td>-0.102</td>\n",
       "      <td>0.000</td>\n",
       "      <td>...</td>\n",
       "      <td>-0.0</td>\n",
       "      <td>-0.692</td>\n",
       "      <td>-0.000</td>\n",
       "      <td>-0.0</td>\n",
       "      <td>-0.000</td>\n",
       "      <td>-0.000</td>\n",
       "      <td>-0.0</td>\n",
       "      <td>-0.150</td>\n",
       "      <td>-0.000</td>\n",
       "      <td>-0.0</td>\n",
       "      <td>0</td>\n",
       "      <td>0</td>\n",
       "      <td>0</td>\n",
       "      <td>0</td>\n",
       "      <td>0</td>\n",
       "      <td>0</td>\n",
       "      <td>0</td>\n",
       "      <td>0</td>\n",
       "      <td>0</td>\n",
       "      <td>0</td>\n",
       "      <td>0</td>\n",
       "      <td>0</td>\n",
       "      <td>0</td>\n",
       "      <td>0</td>\n",
       "      <td>0</td>\n",
       "    </tr>\n",
       "    <tr>\n",
       "      <th>331</th>\n",
       "      <td>0.373</td>\n",
       "      <td>-1.470</td>\n",
       "      <td>-2.159</td>\n",
       "      <td>-0.692</td>\n",
       "      <td>0.617</td>\n",
       "      <td>0</td>\n",
       "      <td>0</td>\n",
       "      <td>0</td>\n",
       "      <td>1</td>\n",
       "      <td>0</td>\n",
       "      <td>0</td>\n",
       "      <td>-0.548</td>\n",
       "      <td>-0.805</td>\n",
       "      <td>-0.258</td>\n",
       "      <td>0.230</td>\n",
       "      <td>0.000</td>\n",
       "      <td>0.000</td>\n",
       "      <td>0.0</td>\n",
       "      <td>0.373</td>\n",
       "      <td>0.000</td>\n",
       "      <td>0.0</td>\n",
       "      <td>3.173</td>\n",
       "      <td>1.017</td>\n",
       "      <td>-0.906</td>\n",
       "      <td>-0.000</td>\n",
       "      <td>...</td>\n",
       "      <td>-0.0</td>\n",
       "      <td>-0.692</td>\n",
       "      <td>-0.000</td>\n",
       "      <td>-0.0</td>\n",
       "      <td>0.000</td>\n",
       "      <td>0.000</td>\n",
       "      <td>0.0</td>\n",
       "      <td>0.617</td>\n",
       "      <td>0.000</td>\n",
       "      <td>0.0</td>\n",
       "      <td>0</td>\n",
       "      <td>0</td>\n",
       "      <td>0</td>\n",
       "      <td>0</td>\n",
       "      <td>0</td>\n",
       "      <td>0</td>\n",
       "      <td>0</td>\n",
       "      <td>0</td>\n",
       "      <td>0</td>\n",
       "      <td>0</td>\n",
       "      <td>0</td>\n",
       "      <td>0</td>\n",
       "      <td>0</td>\n",
       "      <td>0</td>\n",
       "      <td>0</td>\n",
       "    </tr>\n",
       "    <tr>\n",
       "      <th>1117</th>\n",
       "      <td>0.255</td>\n",
       "      <td>0.252</td>\n",
       "      <td>0.171</td>\n",
       "      <td>1.664</td>\n",
       "      <td>0.412</td>\n",
       "      <td>1</td>\n",
       "      <td>0</td>\n",
       "      <td>0</td>\n",
       "      <td>0</td>\n",
       "      <td>1</td>\n",
       "      <td>0</td>\n",
       "      <td>0.064</td>\n",
       "      <td>0.044</td>\n",
       "      <td>0.424</td>\n",
       "      <td>0.105</td>\n",
       "      <td>0.255</td>\n",
       "      <td>0.000</td>\n",
       "      <td>0.0</td>\n",
       "      <td>0.000</td>\n",
       "      <td>0.255</td>\n",
       "      <td>0.0</td>\n",
       "      <td>0.043</td>\n",
       "      <td>0.419</td>\n",
       "      <td>0.104</td>\n",
       "      <td>0.252</td>\n",
       "      <td>...</td>\n",
       "      <td>0.0</td>\n",
       "      <td>0.000</td>\n",
       "      <td>1.664</td>\n",
       "      <td>0.0</td>\n",
       "      <td>0.412</td>\n",
       "      <td>0.000</td>\n",
       "      <td>0.0</td>\n",
       "      <td>0.000</td>\n",
       "      <td>0.412</td>\n",
       "      <td>0.0</td>\n",
       "      <td>0</td>\n",
       "      <td>0</td>\n",
       "      <td>0</td>\n",
       "      <td>1</td>\n",
       "      <td>0</td>\n",
       "      <td>0</td>\n",
       "      <td>0</td>\n",
       "      <td>0</td>\n",
       "      <td>0</td>\n",
       "      <td>0</td>\n",
       "      <td>0</td>\n",
       "      <td>0</td>\n",
       "      <td>0</td>\n",
       "      <td>0</td>\n",
       "      <td>0</td>\n",
       "    </tr>\n",
       "  </tbody>\n",
       "</table>\n",
       "<p>5 rows × 66 columns</p>\n",
       "</div>"
      ],
      "text/plain": [
       "      test_score     ap  avg_ap  sat_subjects    gpa  female  minority  \\\n",
       "192        0.727  1.543   0.753         1.664  0.514       0         0   \n",
       "652       -1.045 -0.179   0.365         0.093 -0.661       1         1   \n",
       "593       -0.631  0.682   0.287        -0.692 -0.150       0         0   \n",
       "331        0.373 -1.470  -2.159        -0.692  0.617       0         0   \n",
       "1117       0.255  0.252   0.171         1.664  0.412       1         0   \n",
       "\n",
       "      sports  harvard  early_app  alumni  test_score_ap  test_score_avg_ap  \\\n",
       "192        0        1          0       0          1.122              0.548   \n",
       "652        0        1          0       0          0.187             -0.381   \n",
       "593        0        1          0       0         -0.431             -0.181   \n",
       "331        0        1          0       0         -0.548             -0.805   \n",
       "1117       0        0          1       0          0.064              0.044   \n",
       "\n",
       "      test_score_sat_subjects  test_score_gpa  test_score_female  \\\n",
       "192                     1.210           0.374              0.000   \n",
       "652                    -0.098           0.690             -1.045   \n",
       "593                     0.437           0.094             -0.000   \n",
       "331                    -0.258           0.230              0.000   \n",
       "1117                    0.424           0.105              0.255   \n",
       "\n",
       "      test_score_minority  test_score_sports  test_score_harvard  \\\n",
       "192                 0.000                0.0               0.727   \n",
       "652                -1.045               -0.0              -1.045   \n",
       "593                -0.000               -0.0              -0.631   \n",
       "331                 0.000                0.0               0.373   \n",
       "1117                0.000                0.0               0.000   \n",
       "\n",
       "      test_score_early_app  test_score_alumni  ap_avg_ap  ap_sat_subjects  \\\n",
       "192                  0.000                0.0      1.162            2.567   \n",
       "652                 -0.000               -0.0     -0.065           -0.017   \n",
       "593                 -0.000               -0.0      0.196           -0.472   \n",
       "331                  0.000                0.0      3.173            1.017   \n",
       "1117                 0.255                0.0      0.043            0.419   \n",
       "\n",
       "      ap_gpa  ap_female  ...  sat_subjects_sports  sat_subjects_harvard  \\\n",
       "192    0.794      0.000  ...                  0.0                 1.664   \n",
       "652    0.118     -0.179  ...                  0.0                 0.093   \n",
       "593   -0.102      0.000  ...                 -0.0                -0.692   \n",
       "331   -0.906     -0.000  ...                 -0.0                -0.692   \n",
       "1117   0.104      0.252  ...                  0.0                 0.000   \n",
       "\n",
       "      sat_subjects_early_app  sat_subjects_alumni  gpa_female  gpa_minority  \\\n",
       "192                    0.000                  0.0       0.000         0.000   \n",
       "652                    0.000                  0.0      -0.661        -0.661   \n",
       "593                   -0.000                 -0.0      -0.000        -0.000   \n",
       "331                   -0.000                 -0.0       0.000         0.000   \n",
       "1117                   1.664                  0.0       0.412         0.000   \n",
       "\n",
       "      gpa_sports  gpa_harvard  gpa_early_app  gpa_alumni  female_minority  \\\n",
       "192          0.0        0.514          0.000         0.0                0   \n",
       "652         -0.0       -0.661         -0.000        -0.0                1   \n",
       "593         -0.0       -0.150         -0.000        -0.0                0   \n",
       "331          0.0        0.617          0.000         0.0                0   \n",
       "1117         0.0        0.000          0.412         0.0                0   \n",
       "\n",
       "      female_sports  female_harvard  female_early_app  female_alumni  \\\n",
       "192               0               0                 0              0   \n",
       "652               0               1                 0              0   \n",
       "593               0               0                 0              0   \n",
       "331               0               0                 0              0   \n",
       "1117              0               0                 1              0   \n",
       "\n",
       "      minority_sports  minority_harvard  minority_early_app  minority_alumni  \\\n",
       "192                 0                 0                   0                0   \n",
       "652                 0                 1                   0                0   \n",
       "593                 0                 0                   0                0   \n",
       "331                 0                 0                   0                0   \n",
       "1117                0                 0                   0                0   \n",
       "\n",
       "      sports_harvard  sports_early_app  sports_alumni  harvard_early_app  \\\n",
       "192                0                 0              0                  0   \n",
       "652                0                 0              0                  0   \n",
       "593                0                 0              0                  0   \n",
       "331                0                 0              0                  0   \n",
       "1117               0                 0              0                  0   \n",
       "\n",
       "      harvard_alumni  early_app_alumni  \n",
       "192                0                 0  \n",
       "652                0                 0  \n",
       "593                0                 0  \n",
       "331                0                 0  \n",
       "1117               0                 0  \n",
       "\n",
       "[5 rows x 66 columns]"
      ]
     },
     "execution_count": 90,
     "metadata": {},
     "output_type": "execute_result"
    }
   ],
   "source": [
    "#Create new features including 2-ways interaction term and important feature from previous steps.\n",
    "\n",
    "x_interact = pd.DataFrame()\n",
    "\n",
    "for i in range(len(predictors_important)):\n",
    "    for j in range(i+1,len(predictors_important)):\n",
    "        feature1 = predictors_important[i]\n",
    "        feature2 = predictors_important[j]\n",
    "        interact_name = f\"{feature1}_{feature2}\"\n",
    "        x_interact[interact_name] = x_train_full[feature1] * x_train_full[feature2]\n",
    "\n",
    "\n",
    "x_lasso_interact = pd.concat([x_train_full[predictors_important],x_interact],axis=1)\n",
    "x_lasso_interact.reset_index(drop=True)\n",
    "x_lasso_interact.head()\n",
    "\n",
    "\n"
   ]
  },
  {
   "cell_type": "code",
   "execution_count": 91,
   "metadata": {},
   "outputs": [
    {
     "name": "stdout",
     "output_type": "stream",
     "text": [
      "Intercept and coefficients for 'logit_lasso_interact' are:\n",
      "\n",
      "\tintercept           -1.5921\n",
      "\ttest_score          0.7175\n",
      "\tap                  0.0000\n",
      "\tavg_ap              -0.2107\n",
      "\tsat_subjects        0.0000\n",
      "\tgpa                 0.0827\n",
      "\tfemale              -0.1347\n",
      "\tminority            0.9686\n",
      "\tsports              0.8106\n",
      "\tharvard             0.2748\n",
      "\tearly_app           0.5005\n",
      "\talumni              0.7005\n",
      "\ttest_score_ap       0.0000\n",
      "\ttest_score_avg_ap   0.0079\n",
      "\ttest_score_sat_subjects-0.0842\n",
      "\ttest_score_gpa      0.1266\n",
      "\ttest_score_female   0.0706\n",
      "\ttest_score_minority 0.0000\n",
      "\ttest_score_sports   -0.1073\n",
      "\ttest_score_harvard  0.1786\n",
      "\ttest_score_early_app-0.0546\n",
      "\ttest_score_alumni   0.3520\n",
      "\tap_avg_ap           0.0151\n",
      "\tap_sat_subjects     -0.0819\n",
      "\tap_gpa              0.0615\n",
      "\tap_female           0.0000\n",
      "\tap_minority         0.2003\n",
      "\tap_sports           0.0000\n",
      "\tap_harvard          -0.3656\n",
      "\tap_early_app        -0.0091\n",
      "\tap_alumni           0.4184\n",
      "\tavg_ap_sat_subjects 0.0549\n",
      "\tavg_ap_gpa          -0.1452\n",
      "\tavg_ap_female       0.0000\n",
      "\tavg_ap_minority     0.3371\n",
      "\tavg_ap_sports       0.0000\n",
      "\tavg_ap_harvard      0.2434\n",
      "\tavg_ap_early_app    0.0000\n",
      "\tavg_ap_alumni       0.0000\n",
      "\tsat_subjects_gpa    -0.0447\n",
      "\tsat_subjects_female 0.0000\n",
      "\tsat_subjects_minority0.0438\n",
      "\tsat_subjects_sports -0.1867\n",
      "\tsat_subjects_harvard-0.1042\n",
      "\tsat_subjects_early_app-0.0052\n",
      "\tsat_subjects_alumni 0.0832\n",
      "\tgpa_female          0.0244\n",
      "\tgpa_minority        0.0852\n",
      "\tgpa_sports          0.0000\n",
      "\tgpa_harvard         -0.0283\n",
      "\tgpa_early_app       0.0000\n",
      "\tgpa_alumni          0.0000\n",
      "\tfemale_minority     -0.0974\n",
      "\tfemale_sports       0.0000\n",
      "\tfemale_harvard      0.1588\n",
      "\tfemale_early_app    0.1125\n",
      "\tfemale_alumni       0.0000\n",
      "\tminority_sports     -0.1567\n",
      "\tminority_harvard    -0.3041\n",
      "\tminority_early_app  0.0000\n",
      "\tminority_alumni     0.0000\n",
      "\tsports_harvard      0.0000\n",
      "\tsports_early_app    0.2685\n",
      "\tsports_alumni       0.0000\n",
      "\tharvard_early_app   0.0000\n",
      "\tharvard_alumni      0.0147\n",
      "\tearly_app_alumni    0.0000\n"
     ]
    }
   ],
   "source": [
    "Cs = np.logspace(-2, 2, 50)\n",
    "kfold=10\n",
    "\n",
    "lasso_interact = LogisticRegressionCV(\n",
    "        Cs=Cs,\n",
    "        penalty = 'l1',\n",
    "        cv=kfold,\n",
    "        scoring = 'accuracy',\n",
    "        random_state = 109,\n",
    "        solver = 'liblinear',\n",
    "        n_jobs = -1)\n",
    "\n",
    "#fit model\n",
    "lasso_interact.fit(x_lasso_interact, y_train)\n",
    "\n",
    "# Get the best C value and CV accuracy\n",
    "best_C = lasso_interact.C_[0]  # [0] for binary classification\n",
    "lasso_interact_cv_acc = lasso_interact.scores_[1].mean(axis=0).max()\n",
    "lasso_interact_train_acc = lasso_interact.score(x_lasso_interact, y_train)\n",
    "\n",
    "#Intercept and coef output\n",
    "print(\n",
    "    \"Intercept and coefficients for 'logit_lasso_interact' are:\"\n",
    "    \"\\n\\n\\t{:<20}{:.4f}\".format(\n",
    "        \"intercept\", np.array(lasso_interact.intercept_).flatten()[0]\n",
    "    )\n",
    ")\n",
    "\n",
    "for predictor, coef in zip(x_lasso_interact.columns,\n",
    "                           lasso_interact.coef_[0]):\n",
    "    print(\"\\t{:<20}{:.4f}\".format(predictor, coef))\n"
   ]
  },
  {
   "cell_type": "code",
   "execution_count": 92,
   "metadata": {
    "scrolled": true,
    "tags": []
   },
   "outputs": [
    {
     "name": "stdout",
     "output_type": "stream",
     "text": [
      "\n",
      "The classification accuracies for 'logit_lasso_interact' are:\n",
      "\n",
      "\tTrain\t0.7547\n",
      "\tCV\t0.7386\n",
      "\n"
     ]
    }
   ],
   "source": [
    "print(\n",
    "    \"\\nThe classification accuracies for 'logit_lasso_interact' are:\"\n",
    "    \"\\n\\n\\tTrain\\t{:.4f}\\n\\tCV\\t{:.4f}\\n\"\n",
    "    .format(lasso_interact_train_acc, lasso_interact_cv_acc)\n",
    ")\n",
    "\n",
    "# store test score to dict for later use\n",
    "q4_cv_scores[\"lasso_interact\"] = lasso_interact_cv_acc"
   ]
  },
  {
   "cell_type": "markdown",
   "metadata": {
    "cell_id": "0a790850-87c6-4f46-b89e-048a2295c92b",
    "colab_type": "text",
    "deletable": false,
    "editable": false,
    "id": "IGFtXJmQap2q"
   },
   "source": [
    "<div class='exercise-r'>\n",
    "\n",
    "**Q4.7** How many of the predictors in our `logit_lasso_interact` model were deemed important and unimportant? Store these numbers in `num_important_coefs` and `num_unimportant_coefs`. \n",
    "    \n",
    "</div>"
   ]
  },
  {
   "cell_type": "code",
   "execution_count": 93,
   "metadata": {
    "tags": []
   },
   "outputs": [],
   "source": [
    "#counting important and unimportant coef\n",
    "\n",
    "num_important_coefs=0\n",
    "num_unimportant_coefs = 0\n",
    "\n",
    "lasso_interact_coef = lasso_interact.coef_.flatten()\n",
    "\n",
    "for coef_i in lasso_interact.coef_.flatten():\n",
    "    if abs(coef_i) != 0:\n",
    "        num_important_coefs = num_important_coefs+1\n",
    "    else:\n",
    "        num_unimportant_coefs = num_unimportant_coefs + 1\n"
   ]
  },
  {
   "cell_type": "code",
   "execution_count": 94,
   "metadata": {
    "tags": []
   },
   "outputs": [
    {
     "name": "stdout",
     "output_type": "stream",
     "text": [
      "Of the 66 predictors used in our 'logit_lasso_interact' model:\n",
      "\n",
      "\t44 predictors were deemed 'important' by our model\n",
      "\t22 predictors were deemed 'unimportant' with 0-valued coefficients\n"
     ]
    }
   ],
   "source": [
    "print(\n",
    "    \"Of the {} predictors used in our 'logit_lasso_interact' model:\"\n",
    "    \"\\n\\n\\t{} predictors were deemed 'important' by our model\"\n",
    "    \"\\n\\t{} predictors were deemed 'unimportant' with 0-valued \"\n",
    "    \"coefficients\".format(\n",
    "        num_important_coefs + num_unimportant_coefs,\n",
    "        num_important_coefs,\n",
    "        num_unimportant_coefs\n",
    "    )\n",
    ")"
   ]
  },
  {
   "cell_type": "code",
   "execution_count": 95,
   "metadata": {
    "deletable": false,
    "editable": false
   },
   "outputs": [
    {
     "data": {
      "text/html": [
       "<p><strong><pre style='display: inline;'>q4.7</pre></strong> passed! 🚀</p>"
      ],
      "text/plain": [
       "q4.7 results: All test cases passed!"
      ]
     },
     "execution_count": 95,
     "metadata": {},
     "output_type": "execute_result"
    }
   ],
   "source": [
    "grader.check(\"q4.7\")"
   ]
  },
  {
   "cell_type": "markdown",
   "metadata": {},
   "source": [
    "---"
   ]
  },
  {
   "cell_type": "markdown",
   "metadata": {},
   "source": [
    "<a id=\"part5\"></a>\n",
    "\n",
    "## <div class='exercise'>Question 5: Evaluating results</div>\n",
    "\n",
    "[Return to contents](#contents)"
   ]
  },
  {
   "cell_type": "markdown",
   "metadata": {
    "cell_id": "0a790850-87c6-4f46-b89e-048a2295c92b",
    "colab_type": "text",
    "deletable": false,
    "editable": false,
    "id": "IGFtXJmQap2q"
   },
   "source": [
    "<!-- BEGIN QUESTION -->\n",
    "\n",
    "<div class='exercise-r'>\n",
    "\n",
    "**Q5.1** Which of the 4 models in Question 4 performs the best based on cross-validation accuracy?  Which performs the worst? Based on these accuracies, how do these models perform compared to your baseline \"naive\" model's performance on the training data back in Question 1.1? What does this comparison to the \"naive\" model tell us?\n",
    "    \n",
    "</div>"
   ]
  },
  {
   "cell_type": "code",
   "execution_count": 109,
   "metadata": {
    "deletable": false,
    "editable": false
   },
   "outputs": [
    {
     "name": "stdout",
     "output_type": "stream",
     "text": [
      "The CV accuracies for the 4 models in Q4 are:\n",
      "\n",
      "\tknn_model                0.7366\n",
      "\tlogit_full               0.7373\n",
      "\tlogit_lasso              0.7380\n",
      "\tlasso_interact           0.7386\n",
      "\n",
      "The  accuracy for our original baseline \"naive\" model was 0.7299\n"
     ]
    }
   ],
   "source": [
    "# your code here\n",
    "print(\"The CV accuracies for the 4 models in Q4 are:\\n\")\n",
    "for key, value in q4_cv_scores.items():\n",
    "    print(\"\\t{:<25}{:.4f}\".format(key, value))\n",
    "print(\n",
    "    \"\\nThe  accuracy for our original baseline \\\"naive\\\" \"\n",
    "    \"model was {:.4f}\".format(naive_train_acc)\n",
    ")"
   ]
  },
  {
   "cell_type": "markdown",
   "metadata": {},
   "source": [
    "<div class=\"highlight-box\" style=\"border: 1px solid #ffcccb; background-color: #ffcccb; height: 5px;\"></div>"
   ]
  },
  {
   "cell_type": "markdown",
   "metadata": {},
   "source": [
    "##### Answer :\n",
    "The model with the highest cross-validation (CV) accuracy is the lasso_interact model, achieving a score of **0.7386.** The knn model has the lowest CV accuracy at **0.7373.** Notably, all models outperform the baseline \"naive\" model, which has an accuracy of **0.7299.**\n",
    "\n",
    "The \"naive\" model, implemented using a DummyClassifier, predicts outcomes based on choosing the most frequent class observed in the training data. This model serves as a benchmark; if a more complex model performs worse than the naive model, it suggests potential issues with that model. By comparing advanced models to this baseline, we can determine if they are effectively learning meaningful patterns or merely capturing noise in the data"
   ]
  },
  {
   "cell_type": "markdown",
   "metadata": {},
   "source": [
    "<div class=\"highlight-box\" style=\"border: 1px solid #ffcccb; background-color: #ffcccb; height: 5px;\"></div>"
   ]
  },
  {
   "cell_type": "markdown",
   "metadata": {
    "cell_id": "0a790850-87c6-4f46-b89e-048a2295c92b",
    "colab_type": "text",
    "deletable": false,
    "editable": false,
    "id": "IGFtXJmQap2q"
   },
   "source": [
    "<!-- END QUESTION -->\n",
    "\n",
    "<!-- BEGIN QUESTION -->\n",
    "\n",
    "<div class='exercise-r'>\n",
    "\n",
    "**Q5.2** Draw an ROC curve for each of the four models on a single plot.  How do these ROC curves compare?  Do the ROC curves support that the best model identified in Question 5.1 is better than the worst model identified in 5.1?  How do you know?\n",
    "\n",
    "**Hint:** Use `cross_val_predict` with `method='predict_proba` to get the probability predictions required to construct the ROC curves.\n",
    "</div>"
   ]
  },
  {
   "cell_type": "markdown",
   "metadata": {},
   "source": [
    "<div class=\"highlight-box\" style=\"border: 1px solid #ffcccb; background-color: #ffcccb; height: 5px;\"></div>"
   ]
  },
  {
   "cell_type": "markdown",
   "metadata": {},
   "source": [
    "Knowing that the ROC curve closer to the upper left corner performs better, the best model identified in Question 5.1 is \"logit_full\" with the accuracy value of 0.7373, which corresponds to the same result as the graph.\n",
    "However, the ROC plot suggest that the knn model performs the worst, while the lasso_interact model perorms the worst in Q5.1, which is inconsistent."
   ]
  },
  {
   "cell_type": "markdown",
   "metadata": {},
   "source": [
    "<div class=\"highlight-box\" style=\"border: 1px solid #ffcccb; background-color: #ffcccb; height: 5px;\"></div>"
   ]
  },
  {
   "cell_type": "code",
   "execution_count": 111,
   "metadata": {
    "tags": []
   },
   "outputs": [
    {
     "data": {
      "image/png": "[encoded data removed]",
      "text/plain": [
       "<Figure size 800x600 with 1 Axes>"
      ]
     },
     "metadata": {},
     "output_type": "display_data"
    }
   ],
   "source": [
    "from sklearn.metrics import roc_curve, auc\n",
    "from sklearn.model_selection import cross_val_predict\n",
    "\n",
    "\n",
    "# Our 4 models\n",
    "models = {\n",
    "    'KNN': best_knn,\n",
    "    'Logit Full': logit_full,\n",
    "    'Logit Lasso': logit_lasso,\n",
    "    'Lasso Interact': lasso_interact\n",
    "}\n",
    "\n",
    "\n",
    "# the function \n",
    "def plot_roc_curves(models, X, y, cv=10):\n",
    "    plt.figure(figsize=(8, 6))\n",
    "    aucs = {}\n",
    "    \n",
    "    for name, model in models.items():\n",
    "        # Cross-validated probabilities\n",
    "        y_proba = cross_val_predict(model, X, y, cv=cv, method='predict_proba')\n",
    "        \n",
    "        # Calculate ROC curve and AUC\n",
    "        fpr, tpr, _ = roc_curve(y, y_proba[:, 1])\n",
    "        roc_auc = auc(fpr, tpr)\n",
    "        aucs[name] = roc_auc\n",
    "        \n",
    "        \n",
    "        plt.plot(fpr, tpr, label=f'{name} (AUC = {roc_auc:.2f})')\n",
    "    \n",
    "    \n",
    "    plt.plot([0, 1], [0, 1], 'k--')\n",
    "    plt.xlim([0.0, 1.0])\n",
    "    plt.ylim([0.0, 1.05])\n",
    "    plt.xlabel('False Positive Rate')\n",
    "    plt.ylabel('True Positive Rate')\n",
    "    plt.title('ROC Curves for Models')\n",
    "    plt.legend(loc=\"lower right\")\n",
    "    plt.grid(True)\n",
    "    plt.show()\n",
    "    \n",
    "    return aucs\n",
    "\n",
    "\n",
    "\n",
    "# we plot ROC curves\n",
    "aucs = plot_roc_curves(models, X_train, y_train, cv=10)"
   ]
  },
  {
   "cell_type": "code",
   "execution_count": 113,
   "metadata": {},
   "outputs": [
    {
     "ename": "NameError",
     "evalue": "name 'X_test4_3' is not defined",
     "output_type": "error",
     "traceback": [
      "\u001b[0;31m---------------------------------------------------------------------------\u001b[0m",
      "\u001b[0;31mNameError\u001b[0m                                 Traceback (most recent call last)",
      "Cell \u001b[0;32mIn[113], line 6\u001b[0m\n\u001b[1;32m      3\u001b[0m fpr_knn, tpr_knn, threshholds_knn \u001b[38;5;241m=\u001b[39m roc_curve(y_test, best_knn_prob)\n\u001b[1;32m      4\u001b[0m auc_knn \u001b[38;5;241m=\u001b[39m np\u001b[38;5;241m.\u001b[39mround(roc_auc_score(y_test, best_knn_prob),\u001b[38;5;241m3\u001b[39m)\n\u001b[0;32m----> 6\u001b[0m logit_full_prob \u001b[38;5;241m=\u001b[39m logit_full\u001b[38;5;241m.\u001b[39mpredict_proba(\u001b[43mX_test4_3\u001b[49m)[:,\u001b[38;5;241m1\u001b[39m]\n\u001b[1;32m      7\u001b[0m fpr_logit_full, tpr_logit_full, threshholds_logit_full \u001b[38;5;241m=\u001b[39m roc_curve(y_test, logit_full_prob)\n\u001b[1;32m      8\u001b[0m auc_logit_full \u001b[38;5;241m=\u001b[39m np\u001b[38;5;241m.\u001b[39mround(roc_auc_score(y_test, logit_full_prob),\u001b[38;5;241m3\u001b[39m)\n",
      "\u001b[0;31mNameError\u001b[0m: name 'X_test4_3' is not defined"
     ]
    }
   ],
   "source": [
    "# Plot ROC Curves on four models\n",
    "best_knn_prob = best_knn.predict_proba(X_test[x_predictors])[:,1]\n",
    "fpr_knn, tpr_knn, threshholds_knn = roc_curve(y_test, best_knn_prob)\n",
    "auc_knn = np.round(roc_auc_score(y_test, best_knn_prob),3)\n",
    "\n",
    "logit_full_prob = logit_full.predict_proba(X_test4_3)[:,1]\n",
    "fpr_logit_full, tpr_logit_full, threshholds_logit_full = roc_curve(y_test, logit_full_prob)\n",
    "auc_logit_full = np.round(roc_auc_score(y_test, logit_full_prob),3)\n",
    "\n",
    "\n",
    "logit_lasso_prob = logit_lasso.predict_proba(X_test[predictor_list])[:,1]\n",
    "fpr_logit_lasso, tpr_logit_lasso, threshholds_logit_lasso = roc_curve(y_test, logit_lasso_prob)\n",
    "auc_logit_lasso = np.round(roc_auc_score(y_test, logit_lasso_prob),3)\n",
    "\n",
    "\n",
    "lasso_interact_prob = lasso_interact.predict_proba(X_test_lasso_interact_df)[:,1]\n",
    "fpr_lasso_interact, tpr_lasso_interact, threshholds_lasso_interact = roc_curve(y_test, lasso_interact_prob)\n",
    "auc_lasso_interact = np.round(roc_auc_score(y_test, lasso_interact_prob),3)"
   ]
  },
  {
   "cell_type": "markdown",
   "metadata": {
    "cell_id": "0a790850-87c6-4f46-b89e-048a2295c92b",
    "colab_type": "text",
    "deletable": false,
    "editable": false,
    "id": "IGFtXJmQap2q"
   },
   "source": [
    "<!-- END QUESTION -->\n",
    "\n",
    "<!-- BEGIN QUESTION -->\n",
    "\n",
    "<div class='exercise-r'>\n",
    "\n",
    "**5.3** Calculate the AUC for all 4 models and store these in `auc_list`. **The order of AUCs in the list should match the order of the model as they appear in `q4_cv_scores`.**\n",
    "    \n",
    "Do the rankings of these 4 models based on AUC match those for classification accuracy?  Why do you think this is the case?\n",
    "    \n",
    "</div>"
   ]
  },
  {
   "cell_type": "markdown",
   "metadata": {},
   "source": [
    "<div class=\"highlight-box\" style=\"border: 1px solid #ffcccb; background-color: #ffcccb; height: 5px;\"></div>"
   ]
  },
  {
   "cell_type": "markdown",
   "metadata": {},
   "source": [
    "_Type your answer here, replacing this text._"
   ]
  },
  {
   "cell_type": "markdown",
   "metadata": {},
   "source": [
    "<div class=\"highlight-box\" style=\"border: 1px solid #ffcccb; background-color: #ffcccb; height: 5px;\"></div>"
   ]
  },
  {
   "cell_type": "code",
   "execution_count": 64,
   "metadata": {
    "tags": []
   },
   "outputs": [
    {
     "name": "stdout",
     "output_type": "stream",
     "text": [
      "The AUC scores:\n",
      "knn_model: 0.6485\n",
      "logit_full: 0.7013\n",
      "logit_lasso: 0.7017\n",
      "lasso_interact: 0.7024\n"
     ]
    }
   ],
   "source": [
    "# matching the modfel names \n",
    "correct_model_names = list(q4_cv_scores.keys())\n",
    "\n",
    "# remap the aucs dictionary to use the correct model names\n",
    "corrected_aucs = {correct_model_names[i]: auc for i, auc in enumerate(aucs.values())}\n",
    "\n",
    "# Calculate AUC for each model and store in auc_list\n",
    "auc_list = [corrected_aucs[model_name] for model_name in correct_model_names]\n",
    "\n",
    "\n",
    "print(\"The AUC scores:\")\n",
    "for model_name, auc_value in zip(correct_model_names, auc_list):\n",
    "    print(f\"{model_name}: {auc_value:.4f}\")"
   ]
  },
  {
   "cell_type": "code",
   "execution_count": 65,
   "metadata": {
    "tags": []
   },
   "outputs": [
    {
     "name": "stdout",
     "output_type": "stream",
     "text": [
      "The CV accuracies & CV AUC scores for the 4 models in Q4 are:\n",
      "\n",
      "\t\t\t\tAccuracy\tAUC\n",
      "\tknn_model               0.7366\t\t0.6485\n",
      "\tlogit_full              0.7373\t\t0.7013\n",
      "\tlogit_lasso             0.7366\t\t0.7017\n",
      "\tlasso_interact          0.7323\t\t0.7024\n"
     ]
    }
   ],
   "source": [
    "print(\n",
    "    \"The CV accuracies & CV AUC scores for the 4 models in Q4 are:\"\n",
    "    \"\\n\\n\\t\\t\\t\\tAccuracy\\tAUC\"\n",
    ")\n",
    "for (key, value), auc_value in zip(q4_cv_scores.items(), auc_list):\n",
    "    print(\"\\t{:<24}{:.4f}\\t\\t{:.4f}\".format(key, value, auc_value))"
   ]
  },
  {
   "cell_type": "code",
   "execution_count": 66,
   "metadata": {
    "deletable": false,
    "editable": false
   },
   "outputs": [
    {
     "data": {
      "text/html": [
       "<p><strong style='color: red;'><pre style='display: inline;'>q5.3</pre> results:</strong></p><p><strong><pre style='display: inline;'>q5.3 - 1</pre> result:</strong></p><pre>    ✅ Test case passed</pre><p><strong><pre style='display: inline;'>q5.3 - 2</pre> result:</strong></p><pre>    ❌ Test case failed\n",
       "    Trying:\n",
       "        assert np.allclose(auc_list, [0.6528, 0.7013, 0.7024, 0.6946], atol=0.001), 'AUC scores are off.'\n",
       "    Expecting nothing\n",
       "    **********************************************************************\n",
       "    Line 1, in q5.3 1\n",
       "    Failed example:\n",
       "        assert np.allclose(auc_list, [0.6528, 0.7013, 0.7024, 0.6946], atol=0.001), 'AUC scores are off.'\n",
       "    Exception raised:\n",
       "        Traceback (most recent call last):\n",
       "          File \"/shared/courseSharedFolders/137799outer/137799/spack/opt/spack/linux-amzn2-skylake_avx512/gcc-14.1.0/miniconda3-24.3.0-zxx5jostrj4myhf7bi3oap3ylkmegd3a/envs/cs109a/lib/python3.12/doctest.py\", line 1368, in __run\n",
       "            exec(compile(example.source, filename, \"single\",\n",
       "          File \"<doctest q5.3 1[0]>\", line 1, in <module>\n",
       "            assert np.allclose(auc_list, [0.6528, 0.7013, 0.7024, 0.6946], atol=0.001), 'AUC scores are off.'\n",
       "                   ^^^^^^^^^^^^^^^^^^^^^^^^^^^^^^^^^^^^^^^^^^^^^^^^^^^^^^^^^^^^^^^^^^^\n",
       "        AssertionError: AUC scores are off.\n",
       "</pre>"
      ],
      "text/plain": [
       "q5.3 results:\n",
       "    q5.3 - 1 result:\n",
       "        ✅ Test case passed\n",
       "\n",
       "    q5.3 - 2 result:\n",
       "        ❌ Test case failed\n",
       "        Trying:\n",
       "            assert np.allclose(auc_list, [0.6528, 0.7013, 0.7024, 0.6946], atol=0.001), 'AUC scores are off.'\n",
       "        Expecting nothing\n",
       "        **********************************************************************\n",
       "        Line 1, in q5.3 1\n",
       "        Failed example:\n",
       "            assert np.allclose(auc_list, [0.6528, 0.7013, 0.7024, 0.6946], atol=0.001), 'AUC scores are off.'\n",
       "        Exception raised:\n",
       "            Traceback (most recent call last):\n",
       "              File \"/shared/courseSharedFolders/137799outer/137799/spack/opt/spack/linux-amzn2-skylake_avx512/gcc-14.1.0/miniconda3-24.3.0-zxx5jostrj4myhf7bi3oap3ylkmegd3a/envs/cs109a/lib/python3.12/doctest.py\", line 1368, in __run\n",
       "                exec(compile(example.source, filename, \"single\",\n",
       "              File \"<doctest q5.3 1[0]>\", line 1, in <module>\n",
       "                assert np.allclose(auc_list, [0.6528, 0.7013, 0.7024, 0.6946], atol=0.001), 'AUC scores are off.'\n",
       "                       ^^^^^^^^^^^^^^^^^^^^^^^^^^^^^^^^^^^^^^^^^^^^^^^^^^^^^^^^^^^^^^^^^^^\n",
       "            AssertionError: AUC scores are off."
      ]
     },
     "execution_count": 66,
     "metadata": {},
     "output_type": "execute_result"
    }
   ],
   "source": [
    "grader.check(\"q5.3\")"
   ]
  },
  {
   "cell_type": "markdown",
   "metadata": {
    "cell_id": "0a790850-87c6-4f46-b89e-048a2295c92b",
    "colab_type": "text",
    "deletable": false,
    "editable": false,
    "id": "IGFtXJmQap2q"
   },
   "source": [
    "<!-- END QUESTION -->\n",
    "\n",
    "<!-- BEGIN QUESTION -->\n",
    "\n",
    "<div class='exercise-r'>\n",
    "\n",
    "**Q5.4** Select your preferred model based on the cross-validation accuracy and AUC. For this 'final model', display the accuracy and AUC scores on the **test data**. Compare these to the accuracy and AUC score of the naive model from 1.1 when predicting on the test data. Would you offer your final model as a publicly available tool for college applicants to use to determine their chances of getting into Harvard and/or Yale? Why or why not? What might be some consequences of the deployment of the model into the real world?\n",
    "    \n",
    "</div>"
   ]
  },
  {
   "cell_type": "markdown",
   "metadata": {},
   "source": [
    "<div class=\"highlight-box\" style=\"border: 1px solid #ffcccb; background-color: #ffcccb; height: 5px;\"></div>"
   ]
  },
  {
   "cell_type": "markdown",
   "metadata": {},
   "source": [
    "The logit_lasso model shows better performance than the naive model in terms of accuracy (74.13% vs. 73.07%). It has AUC value of 0.6256 indicating only modest discriminatory power. However, the naive model, with an AUC of 0.0000, suggesting its inability to identify the class.\n",
    "\n",
    "No, I would not offer this model as a publicly available tool. Although the final model slightly outperforms the naive baseline in accuracy, its low AUC value does not suggest me to publish as a publicly available tool.\n",
    "\n",
    "Merely using this model cannot fully capture the complexity of the admissions process, and it might mislead individuals into drawing incorrect conclusions or making decisions based on incomplete information."
   ]
  },
  {
   "cell_type": "markdown",
   "metadata": {},
   "source": [
    "<div class=\"highlight-box\" style=\"border: 1px solid #ffcccb; background-color: #ffcccb; height: 5px;\"></div>"
   ]
  },
  {
   "cell_type": "code",
   "execution_count": 67,
   "metadata": {
    "tags": []
   },
   "outputs": [
    {
     "name": "stdout",
     "output_type": "stream",
     "text": [
      "Test Accuracy of logit_lasso (final model): 0.7413\n",
      "Test AUC of logit_lasso (final model): 0.6256\n",
      "\n",
      "Naive Model Performance on Test Data:\n",
      "Test Accuracy: 0.7307\n",
      "Test AUC: 0.0000\n"
     ]
    }
   ],
   "source": [
    "# Based on the accuracy and AUC, I choose The logit_lasso model as the final model.\n",
    "# prediction on test data\n",
    "y_test_pred = logit_lasso.predict(X_test)\n",
    "\n",
    "# calculate the accuracy on test data\n",
    "logit_lasso_test_acc = accuracy_score(y_test, y_test_pred)\n",
    "\n",
    "# calculate the AUC on test data\n",
    "y_test_prob = logit_lasso.predict_proba(X_test)[:, 1]\n",
    "fpr, tpr, _ = roc_curve(y_test, y_test_prob)\n",
    "logit_lasso_test_auc = auc(fpr, tpr)\n",
    "\n",
    "\n",
    "print(f\"Test Accuracy of logit_lasso (final model): {logit_lasso_test_acc:.4f}\")\n",
    "print(f\"Test AUC of logit_lasso (final model): {logit_lasso_test_auc:.4f}\")\n",
    "\n",
    "\n",
    "# ================\n",
    "# Naive Model \n",
    "\n",
    "\n",
    "# calculate the accuracy on test data\n",
    "mode = y_test.mode()[0]\n",
    "naive_acc_test = (y_test == mode).mean()\n",
    "\n",
    "\n",
    "# calculate the AUC on test data\n",
    "y_test_prob_naive = [1 if label == mode else 0 for label in y_test]\n",
    "naive_test_auc = roc_auc_score(y_test, y_test_prob_naive)\n",
    "\n",
    "\n",
    "print(\"\\nNaive Model Performance on Test Data:\")\n",
    "print(f\"Test Accuracy: {naive_acc_test:.4f}\")\n",
    "print(f\"Test AUC: {naive_test_auc:.4f}\")\n",
    "\n"
   ]
  },
  {
   "cell_type": "markdown",
   "metadata": {
    "deletable": false,
    "editable": false
   },
   "source": [
    "<!-- END QUESTION -->\n",
    "\n",
    "<!-- BEGIN QUESTION -->\n",
    "\n",
    "<a id=\"part6\"></a>\n",
    "\n",
    "## <div class='exercise'>Question 6: BONUS!</div>\n",
    "\n",
    "[Return to contents](#contents)"
   ]
  },
  {
   "cell_type": "markdown",
   "metadata": {
    "cell_id": "0a790850-87c6-4f46-b89e-048a2295c92b",
    "colab_type": "text",
    "deletable": false,
    "editable": false,
    "id": "IGFtXJmQap2q"
   },
   "source": [
    "<div class='exercise-r'>\n",
    "\n",
    "**Q6 (optional)** Incorporate what you've learned from the PCA and/or Missingness sections of the course to create a new, improved classification model. You could focus on improving predictive performance, inference, interpretability, or all of the above! \n",
    "\n",
    "Be sure to also describe your approach and analyze your results.\n",
    "\n",
    "While this section is optional, we highly encourge you to experiment (and not just for the sake of the potential bonus points 😉).\n",
    "\n",
    "**Note:** Though you should report the test performance of this new, \"bonus\" model, selecting the bonus model over the 'final model' from Q5.4 would have to be justified based on cross-validation performance, *not* test performance! \n",
    "    \n",
    "</div>"
   ]
  },
  {
   "cell_type": "markdown",
   "metadata": {},
   "source": [
    "<div class=\"highlight-box\" style=\"border: 1px solid #ffcccb; background-color: #ffcccb; height: 5px;\"></div>"
   ]
  },
  {
   "cell_type": "markdown",
   "metadata": {},
   "source": [
    "We applied Principal Component Analysis (PCA) to improve our logistic regression model. \n",
    "PCA is a powerful dimensionality reduction technique and it helps in simplifying the dataset while retaining most of the variance.\n",
    "\n",
    "Here is the approach:\n",
    "1. Standardise\n",
    "2. We applied PCA to retain 95% of the variance \n",
    "3. We use transformed data to train the model and test the performance on the test data set.\n",
    "\n",
    "Comparing models:\n",
    "Final Model (logit_lasso):\n",
    "- Test Accuracy: 0.7413\n",
    "- Test AUC: 0.6256\n",
    "\n",
    "Improved Model (PCA Logistic Regression):\n",
    "\n",
    "- PCA Logistic Regression Test Accuracy: 0.7253\n",
    "- PCA Logistic Regression Test AUC: 0.6291\n",
    "\n",
    "The PCA-based model slightly improve in AUC, while it still slightly underperform on the test accurcay. However, I believe that PCA-based logistic regression model provides a more balanced trade-off between complexity and performance. "
   ]
  },
  {
   "cell_type": "markdown",
   "metadata": {},
   "source": [
    "<div class=\"highlight-box\" style=\"border: 1px solid #ffcccb; background-color: #ffcccb; height: 5px;\"></div>"
   ]
  },
  {
   "cell_type": "code",
   "execution_count": 68,
   "metadata": {
    "tags": []
   },
   "outputs": [
    {
     "name": "stdout",
     "output_type": "stream",
     "text": [
      "PCA Logistic Regression Test Accuracy: 0.7253\n",
      "PCA Logistic Regression Test AUC: 0.6291\n"
     ]
    }
   ],
   "source": [
    "from sklearn.decomposition import PCA\n",
    "from sklearn.linear_model import LogisticRegression\n",
    "from sklearn.metrics import accuracy_score, roc_auc_score, roc_curve, auc\n",
    "from sklearn.model_selection import cross_val_score\n",
    "\n",
    "# Standardise and Apply PCA first \n",
    "scaler = StandardScaler()\n",
    "X_train_scaled = scaler.fit_transform(X_train)\n",
    "X_test_scaled = scaler.transform(X_test)\n",
    "\n",
    "# Perform PCA\n",
    "# I'd try to retain 95% of the info\n",
    "pca = PCA(n_components = 0.95)  \n",
    "X_train_pca = pca.fit_transform(X_train_scaled)\n",
    "X_test_pca = pca.transform(X_test_scaled)\n",
    "\n",
    "# fit the model\n",
    "logit_pca = LogisticRegression(random_state=109, max_iter=1000)\n",
    "logit_pca.fit(X_train_pca, y_train)\n",
    "\n",
    "\n",
    "# calculate the accuracy and AUC on test data\n",
    "y_test_pred_pca = logit_pca.predict(X_test_pca)\n",
    "y_test_prob_pca = logit_pca.predict_proba(X_test_pca)[:, 1]\n",
    "logit_pca_test_acc = accuracy_score(y_test, y_test_pred_pca)\n",
    "\n",
    "# AUC\n",
    "fpr, tpr, _ = roc_curve(y_test, y_test_prob_pca)\n",
    "logit_pca_test_auc = auc(fpr, tpr)\n",
    "\n",
    "\n",
    "print(f\"PCA Logistic Regression Test Accuracy: {logit_pca_test_acc:.4f}\")\n",
    "print(f\"PCA Logistic Regression Test AUC: {logit_pca_test_auc:.4f}\")\n"
   ]
  },
  {
   "cell_type": "markdown",
   "metadata": {
    "deletable": false,
    "editable": false
   },
   "source": [
    "<!-- END QUESTION -->\n",
    "\n",
    "<div class=\"alert alert-info\" style=\"color: #4a4a4a; background-color: #fbe8ff; border-color: #eed4db; border-width: 1px; border-radius: 3px; padding: 10px;\">\n",
    "\n",
    "**Wrap-up**\n",
    "\n",
    "* Please describe the aspect(s) of the assignment you found most challenging. This could be conceptual and/or related to coding and implementation. This is also a good place to ask any remaining questions you may have.\n",
    "\n",
    "* How many hours did you spend working on this assignment? Store this as an int or float in `hours_spent_on_hw`. If you worked on the project in a group, report the *average* time spent per person.\n",
    "\n",
    "</div>"
   ]
  },
  {
   "cell_type": "code",
   "execution_count": 69,
   "metadata": {
    "tags": []
   },
   "outputs": [],
   "source": [
    "hours_spent_on_hw = 10"
   ]
  },
  {
   "cell_type": "code",
   "execution_count": 70,
   "metadata": {
    "deletable": false,
    "editable": false
   },
   "outputs": [
    {
     "data": {
      "text/html": [
       "<p><strong><pre style='display: inline;'>wrapup</pre></strong> passed! 🌟</p>"
      ],
      "text/plain": [
       "wrapup results: All test cases passed!"
      ]
     },
     "execution_count": 70,
     "metadata": {},
     "output_type": "execute_result"
    }
   ],
   "source": [
    "grader.check(\"wrapup\")"
   ]
  },
  {
   "cell_type": "code",
   "execution_count": 71,
   "metadata": {},
   "outputs": [
    {
     "name": "stdout",
     "output_type": "stream",
     "text": [
      "It took 1.09 minutes for this notebook to run\n"
     ]
    }
   ],
   "source": [
    "notebook_end = time.time()\n",
    "print(f\"It took {(notebook_end - notebook_start)/60:.2f} minutes for this notebook to run\")"
   ]
  },
  {
   "cell_type": "markdown",
   "metadata": {},
   "source": [
    "🌈 **This concludes HW5. Thank you!**\n",
    "\n",
    "[Return to contents](#contents)"
   ]
  },
  {
   "cell_type": "code",
   "execution_count": null,
   "metadata": {},
   "outputs": [],
   "source": []
  }
 ],
 "metadata": {
  "interpreter": {
   "hash": "aee8b7b246df8f9039afb4144a1f6fd8d2ca17a180786b69acc140d282b71a49"
  },
  "kernelspec": {
   "display_name": "Python 3 (ipykernel)",
   "language": "python",
   "name": "python3"
  },
  "language_info": {
   "codemirror_mode": {
    "name": "ipython",
    "version": 3
   },
   "file_extension": ".py",
   "mimetype": "text/x-python",
   "name": "python",
   "nbconvert_exporter": "python",
   "pygments_lexer": "ipython3",
   "version": "3.12.5"
  },
  "otter": {
   "OK_FORMAT": true,
   "tests": {
    "q1.1": {
     "name": "q1.1",
     "points": 2.5,
     "suites": [
      {
       "cases": [
        {
         "code": ">>> assert np.isclose(naive_train_acc, 0.7299, atol=0.0001), 'Incorrect naive train accuracy'\n",
         "hidden": false,
         "locked": false,
         "points": 2.5
        }
       ],
       "scored": true,
       "setup": "",
       "teardown": "",
       "type": "doctest"
      }
     ]
    },
    "q1.4": {
     "name": "q1.4",
     "points": 4,
     "suites": [
      {
       "cases": [
        {
         "code": ">>> assert type(logit1_4) == type(LogisticRegression()), 'logit1_4 should be am sklearn LogisticRegression object'\n",
         "hidden": false,
         "locked": false,
         "points": 0
        },
        {
         "code": ">>> assert np.isclose(p_harvard, 0.2938, atol=0.0001), 'Incorrect value for p_harvard'\n",
         "hidden": false,
         "locked": false,
         "points": 1
        },
        {
         "code": ">>> assert np.isclose(p_yale, 0.2445, atol=0.0001), 'Incorrect value for p_yale'\n",
         "hidden": false,
         "locked": false,
         "points": 1
        }
       ],
       "scored": true,
       "setup": "",
       "teardown": "",
       "type": "doctest"
      }
     ]
    },
    "q2.1": {
     "name": "q2.1",
     "points": 3,
     "suites": [
      {
       "cases": [
        {
         "code": ">>> assert np.isclose(logit2_1_intercept, -10.5474, atol=0.0001), 'logit2_1_intercept should be a float between -10 and 10'\n>>> assert np.isclose(logit2_1_coef_test_score, 0.0043, atol=0.0001), 'logit2_1_coef_test_score should be a float between -1 and 1'\n",
         "hidden": false,
         "locked": false,
         "points": 1
        },
        {
         "code": ">>> assert np.isclose(acc_train_logit2_1, 0.7299, atol=0.0001), 'acc_train_logit2_1 is incorrect'\n",
         "hidden": false,
         "locked": false,
         "points": 1
        },
        {
         "code": ">>> assert np.isclose(acc_cv_logit2_1, 0.73, atol=0.0001), 'acc_cv_logit2_1 is incorrect'\n",
         "hidden": false,
         "locked": false,
         "points": 1
        }
       ],
       "scored": true,
       "setup": "",
       "teardown": "",
       "type": "doctest"
      }
     ]
    },
    "q2.2": {
     "name": "q2.2",
     "points": 4,
     "suites": [
      {
       "cases": [
        {
         "code": ">>> assert np.isclose(prob_test_2250, 0.3019, atol=0.0001), 'prob_test_2250 is incorrect'\n",
         "hidden": false,
         "locked": false,
         "points": 1.25
        },
        {
         "code": ">>> assert np.isclose(prob_test_2400, 0.4525, atol=0.0001), 'prob_test_2400 is incorrect'\n",
         "hidden": false,
         "locked": false,
         "points": 1.25
        },
        {
         "code": ">>> assert np.isclose(test_50_50, 2444.2, atol=0.01), 'test_50_50 is incorrect'\n",
         "hidden": false,
         "locked": false,
         "points": 1.5
        }
       ],
       "scored": true,
       "setup": "",
       "teardown": "",
       "type": "doctest"
      }
     ]
    },
    "q2.3": {
     "name": "q2.3",
     "points": 3,
     "suites": [
      {
       "cases": [
        {
         "code": ">>> assert np.isclose(logit2_3_intercept, -10.9086, atol=0.0001), 'logit2_3_intercept is incorrect.'\n>>> assert np.isclose(logit2_3_coef_test_score, 0.0046, atol=0.0001), 'logit2_3_coef_test is incorrect.'\n>>> assert np.isclose(logit2_3_coef_avg_ap, -0.0723, atol=0.0001), 'logit2_3_coef_avg_ap is incorrect.'\n",
         "hidden": false,
         "locked": false,
         "points": 1
        },
        {
         "code": ">>> assert np.isclose(acc_train_logit2_3, 0.7306, atol=0.0001), 'acc_train_logit2_3 is incorrect'\n",
         "hidden": false,
         "locked": false,
         "points": 1
        },
        {
         "code": ">>> assert np.isclose(acc_cv_logit2_3, 0.7299, atol=0.0001), 'acc_av_logit2_3 is incorrect'\n",
         "hidden": false,
         "locked": false,
         "points": 1
        }
       ],
       "scored": true,
       "setup": "",
       "teardown": "",
       "type": "doctest"
      }
     ]
    },
    "q3.1": {
     "name": "q3.1",
     "points": 4,
     "suites": [
      {
       "cases": [
        {
         "code": ">>> assert np.isclose(acc_train_logit3_1, 0.7353, atol=0.0001), 'acc_train_logit3_1 is incorrect'\n",
         "hidden": false,
         "locked": false,
         "points": 1
        },
        {
         "code": ">>> assert np.isclose(acc_cv_logit3_1, 0.73, atol=0.0001), 'acc_test_logit3_1 is incorrect'\n",
         "hidden": false,
         "locked": false,
         "points": 1
        }
       ],
       "scored": true,
       "setup": "",
       "teardown": "",
       "type": "doctest"
      }
     ]
    },
    "q3.2": {
     "name": "q3.2",
     "points": 3,
     "suites": [
      {
       "cases": [
        {
         "code": ">>> assert len(logit3_2_coefs) == 5, 'logit3_2 should have 5 coefficients (not including the intercept)'\n",
         "hidden": false,
         "locked": false,
         "points": 1
        },
        {
         "code": ">>> assert np.isclose(acc_train_logit3_2, 0.736, atol=0.0001), 'logit3_2 coef values is incorrect'\n>>> assert np.isclose(acc_cv_logit3_2, 0.7353, atol=0.0001), 'logit3_2 coef values is incorrect'\n",
         "hidden": false,
         "locked": false,
         "points": 2
        }
       ],
       "scored": true,
       "setup": "",
       "teardown": "",
       "type": "doctest"
      }
     ]
    },
    "q3.6": {
     "name": "q3.6",
     "points": 3,
     "suites": [
      {
       "cases": [
        {
         "code": ">>> assert len(logit3_6.coef_.flatten()) == 6, 'logit3_6 should have 6 coefficients (not including the intercept)'\n",
         "hidden": false,
         "locked": false,
         "points": 1
        },
        {
         "code": ">>> assert np.isclose(acc_train_logit3_6, 0.7353, atol=0.0001), 'logit3_6 train accuracy is incorrect.'\n>>> assert np.isclose(acc_cv_logit3_6, 0.7279, atol=0.0001), 'logit3_6 CV accuracy is incorrect.'\n",
         "hidden": false,
         "locked": false,
         "points": 2
        }
       ],
       "scored": true,
       "setup": "",
       "teardown": "",
       "type": "doctest"
      }
     ]
    },
    "q4.1": {
     "name": "q4.1",
     "points": 4,
     "suites": [
      {
       "cases": [
        {
         "code": ">>> assert np.isclose(X_train[non_binary_predictors].values.mean(), 0), 'Non-binary predictors in train should now have mean 0'\n>>> assert np.isclose(X_test[non_binary_predictors].values.mean(), 0, atol=0.1), 'Non-binary predictors in test should now have mean near 0'\n>>> assert np.isclose(X_train[non_binary_predictors].values.std(), 1), 'Non-binary predictors in train should now have std 1'\n>>> assert np.isclose(X_test[non_binary_predictors].values.std(), 1, atol=0.1), 'Non-binary predictors in test should now have std near 1'\n>>> assert set(X_train['harvard'].unique()) == {0, 1}, 'You should not scale the binary predictors.'\n",
         "hidden": false,
         "locked": false,
         "points": 1
        }
       ],
       "scored": true,
       "setup": "",
       "teardown": "",
       "type": "doctest"
      }
     ]
    },
    "q4.3": {
     "name": "q4.3",
     "points": 3,
     "suites": [
      {
       "cases": [
        {
         "code": ">>> assert np.isclose(logit_full_cv_acc, 0.738, atol=0.001), 'logit_full_cv_acc is incorrect'\n",
         "hidden": false,
         "locked": false,
         "points": 1.5
        }
       ],
       "scored": true,
       "setup": "",
       "teardown": "",
       "type": "doctest"
      }
     ]
    },
    "q4.4": {
     "name": "q4.4",
     "points": 4,
     "suites": [
      {
       "cases": [
        {
         "code": ">>> assert np.isclose(logit_lasso_train_acc, 0.742, atol=0.002), 'logit_lasso_train_acc is incorrect'\n",
         "hidden": false,
         "locked": false,
         "points": 2
        },
        {
         "code": ">>> assert np.isclose(logit_lasso_cv_acc, 0.738, atol=0.002), 'logit_lasso_cv_acc is incorrect'\n",
         "hidden": false,
         "locked": false,
         "points": 2
        }
       ],
       "scored": true,
       "setup": "",
       "teardown": "",
       "type": "doctest"
      }
     ]
    },
    "q4.5": {
     "name": "q4.5",
     "points": 3,
     "suites": [
      {
       "cases": [
        {
         "code": ">>> assert len(predictors_important) == 11, 'Incorrect number of important predictors'\n",
         "hidden": false,
         "locked": false,
         "points": 1
        },
        {
         "code": ">>> assert len(predictors_not_important) == 1, 'Incorrect number of non-important predictors'\n",
         "hidden": false,
         "locked": false,
         "points": 1
        }
       ],
       "scored": true,
       "setup": "",
       "teardown": "",
       "type": "doctest"
      }
     ]
    },
    "q4.7": {
     "name": "q4.7",
     "points": 2,
     "suites": [
      {
       "cases": [
        {
         "code": ">>> assert num_important_coefs == 44, 'Incorrect number of important predictors'\n",
         "hidden": false,
         "locked": false,
         "points": 1
        },
        {
         "code": ">>> assert num_unimportant_coefs == 22, 'Incorrect number of non-important predictors'\n",
         "hidden": false,
         "locked": false,
         "points": 1
        }
       ],
       "scored": true,
       "setup": "",
       "teardown": "",
       "type": "doctest"
      }
     ]
    },
    "q5.3": {
     "name": "q5.3",
     "points": 3,
     "suites": [
      {
       "cases": [
        {
         "code": ">>> assert len(auc_list) == 4, 'You should have 4 entries in auc_list'\n",
         "hidden": false,
         "locked": false,
         "points": 0
        },
        {
         "code": ">>> assert np.allclose(auc_list, [0.6528, 0.7013, 0.7024, 0.6946], atol=0.001), 'AUC scores are off.'\n",
         "hidden": false,
         "locked": false,
         "points": 2
        }
       ],
       "scored": true,
       "setup": "",
       "teardown": "",
       "type": "doctest"
      }
     ]
    },
    "wrapup": {
     "name": "wrapup",
     "points": 0,
     "suites": [
      {
       "cases": [
        {
         "code": ">>> assert float(hours_spent_on_hw), 'Please select a time in hours (int or float) to specify how long you spent on this assignment.'\n",
         "hidden": false,
         "locked": false
        }
       ],
       "scored": true,
       "setup": "",
       "teardown": "",
       "type": "doctest"
      }
     ]
    }
   }
  }
 },
 "nbformat": 4,
 "nbformat_minor": 4
}
